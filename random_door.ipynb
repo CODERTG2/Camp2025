{
 "cells": [
  {
   "cell_type": "code",
   "execution_count": 28,
   "id": "61a0f071",
   "metadata": {},
   "outputs": [],
   "source": [
    "import random"
   ]
  },
  {
   "cell_type": "code",
   "execution_count": 29,
   "id": "40b5a07f",
   "metadata": {},
   "outputs": [],
   "source": [
    "def random_door():\n",
    "    doors = ['Goat', 'Goat', 'Car']\n",
    "    door1 = random.choice(doors)\n",
    "    doors.remove(door1)\n",
    "    door2 = random.choice(doors)\n",
    "    doors.remove(door2)\n",
    "    return door1, door2, random.choice(doors)\n",
    "\n",
    "def random_delete():\n",
    "    doors = ['2', '3']\n",
    "    return random.choice(doors)"
   ]
  },
  {
   "cell_type": "code",
   "execution_count": 30,
   "id": "a7aa29b0",
   "metadata": {},
   "outputs": [],
   "source": [
    "door1, door2, door3 = random_door()"
   ]
  },
  {
   "cell_type": "code",
   "execution_count": 31,
   "id": "54d3e156",
   "metadata": {},
   "outputs": [],
   "source": [
    "counter_stay_win = 0\n",
    "counter_switch_win = 0\n",
    "counter_stay_lose = 0\n",
    "counter_switch_lose = 0\n",
    "n = 10000000\n",
    "\n",
    "for i in range(n):\n",
    "    door1, door2, door3 = random_door()\n",
    "    delete = random_delete()\n",
    "    if delete == '2':\n",
    "        choice = random.choice([door1, door3])\n",
    "        if choice == 'Car':\n",
    "            if choice == door1:\n",
    "                counter_stay_win += 1\n",
    "            elif choice == door3:\n",
    "                counter_switch_win += 1\n",
    "        elif choice == 'Goat':\n",
    "            if choice == door1:\n",
    "                counter_stay_lose += 1\n",
    "            elif choice == door3:\n",
    "                counter_switch_lose += 1\n",
    "    elif delete == '3':\n",
    "        choice = random.choice([door1, door2])\n",
    "        if choice == 'Car':\n",
    "            if choice == door1:\n",
    "                counter_stay_win += 1\n",
    "            elif choice == door2:\n",
    "                counter_switch_win += 1\n",
    "        elif choice == 'Goat':\n",
    "            if choice == door1:\n",
    "                counter_stay_lose += 1\n",
    "            elif choice == door2:\n",
    "                counter_switch_lose += 1"
   ]
  },
  {
   "cell_type": "code",
   "execution_count": 32,
   "id": "b804e81a",
   "metadata": {},
   "outputs": [
    {
     "name": "stdout",
     "output_type": "stream",
     "text": [
      "0.1667332\n"
     ]
    }
   ],
   "source": [
    "print(counter_stay_win/n)"
   ]
  },
  {
   "cell_type": "code",
   "execution_count": 33,
   "id": "6b78d9fc",
   "metadata": {},
   "outputs": [
    {
     "name": "stdout",
     "output_type": "stream",
     "text": [
      "0.1667443\n"
     ]
    }
   ],
   "source": [
    "print(counter_switch_win/n)"
   ]
  },
  {
   "cell_type": "code",
   "execution_count": 34,
   "id": "28b103ff",
   "metadata": {},
   "outputs": [
    {
     "name": "stdout",
     "output_type": "stream",
     "text": [
      "0.5000997\n"
     ]
    }
   ],
   "source": [
    "print(counter_stay_lose/n)"
   ]
  },
  {
   "cell_type": "code",
   "execution_count": 35,
   "id": "ebad24c1",
   "metadata": {},
   "outputs": [
    {
     "name": "stdout",
     "output_type": "stream",
     "text": [
      "0.1664228\n"
     ]
    }
   ],
   "source": [
    "print(counter_switch_lose/n)"
   ]
  },
  {
   "cell_type": "code",
   "execution_count": 36,
   "id": "1751c17c",
   "metadata": {},
   "outputs": [
    {
     "name": "stdout",
     "output_type": "stream",
     "text": [
      "0.2500374531610543\n"
     ]
    }
   ],
   "source": [
    "print(counter_stay_win/(counter_stay_win + counter_stay_lose))"
   ]
  },
  {
   "cell_type": "code",
   "execution_count": 37,
   "id": "8b829ff6",
   "metadata": {},
   "outputs": [
    {
     "name": "stdout",
     "output_type": "stream",
     "text": [
      "0.5004824906180713\n"
     ]
    }
   ],
   "source": [
    "print(counter_switch_win/(counter_switch_win + counter_switch_lose))"
   ]
  },
  {
   "cell_type": "code",
   "execution_count": null,
   "id": "8526df05",
   "metadata": {},
   "outputs": [],
   "source": []
  }
 ],
 "metadata": {
  "kernelspec": {
   "display_name": ".venv",
   "language": "python",
   "name": "python3"
  },
  "language_info": {
   "codemirror_mode": {
    "name": "ipython",
    "version": 3
   },
   "file_extension": ".py",
   "mimetype": "text/x-python",
   "name": "python",
   "nbconvert_exporter": "python",
   "pygments_lexer": "ipython3",
   "version": "3.10.5"
  }
 },
 "nbformat": 4,
 "nbformat_minor": 5
}
