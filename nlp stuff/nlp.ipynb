{
 "cells": [
  {
   "cell_type": "code",
   "execution_count": null,
   "id": "2343387f",
   "metadata": {},
   "outputs": [],
   "source": [
    "text1 = \"Apples are red\"\n",
    "text2 = \"Apples are sweet\"\n",
    "text3 = \"Oranges are sweet\""
   ]
  },
  {
   "cell_type": "code",
   "execution_count": null,
   "id": "4a25fc6c",
   "metadata": {},
   "outputs": [
    {
     "name": "stderr",
     "output_type": "stream",
     "text": [
      "[nltk_data] Downloading package stopwords to\n",
      "[nltk_data]     /Users/tanmayshubhgarg/nltk_data...\n",
      "[nltk_data]   Package stopwords is already up-to-date!\n",
      "[nltk_data] Downloading package wordnet to\n",
      "[nltk_data]     /Users/tanmayshubhgarg/nltk_data...\n",
      "[nltk_data]   Package wordnet is already up-to-date!\n",
      "[nltk_data] Downloading package punkt to\n",
      "[nltk_data]     /Users/tanmayshubhgarg/nltk_data...\n",
      "[nltk_data]   Package punkt is already up-to-date!\n"
     ]
    }
   ],
   "source": [
    "import nltk\n",
    "from nltk.corpus import stopwords\n",
    "from nltk.stem import WordNetLemmatizer\n",
    "\n",
    "nltk.download('stopwords')\n",
    "nltk.download('wordnet')\n",
    "nltk.download('punkt')\n",
    "\n",
    "sw_nltk = stopwords.words('english')\n",
    "lemmatizer = WordNetLemmatizer()\n",
    "\n",
    "text1 = \" \".join([lemmatizer.lemmatize(word) for word in nltk.word_tokenize(text1.lower()) if word not in sw_nltk])\n",
    "text2 = \" \".join([lemmatizer.lemmatize(word) for word in nltk.word_tokenize(text2.lower()) if word not in sw_nltk])\n",
    "text3 = \" \".join([lemmatizer.lemmatize(word) for word in nltk.word_tokenize(text3.lower()) if word not in sw_nltk])"
   ]
  },
  {
   "cell_type": "code",
   "execution_count": null,
   "id": "673ff312",
   "metadata": {},
   "outputs": [
    {
     "name": "stdout",
     "output_type": "stream",
     "text": [
      "{'orange', 'sweet', 'apple', 'red'}\n"
     ]
    }
   ],
   "source": [
    "total = set(text1.lower().split(\" \") + text2.lower().split(\" \") + text3.lower().split(\" \"))\n",
    "print(total)\n",
    "total = list(total)"
   ]
  },
  {
   "cell_type": "code",
   "execution_count": null,
   "id": "7b21ffda",
   "metadata": {},
   "outputs": [],
   "source": [
    "import pandas as pd\n",
    "\n",
    "df = pd.DataFrame(0, index=total, columns=total)"
   ]
  },
  {
   "cell_type": "code",
   "execution_count": null,
   "id": "8f324704",
   "metadata": {},
   "outputs": [],
   "source": [
    "def makecm(corpus):\n",
    "    df = pd.DataFrame(0, index=total, columns=total)\n",
    "    for text in corpus:\n",
    "        words = text.split(\" \")\n",
    "        for word in words:\n",
    "            try:\n",
    "                if words[1 + words.index(word)] in total:\n",
    "                    df.at[words[1 + words.index(word)], word] += 1\n",
    "                if words[-1 + words.index(word)] in total:\n",
    "                    df.at[word, words[-1 + words.index(word)]] += 1\n",
    "            except IndexError:\n",
    "                continue\n",
    "    return df\n",
    "\n",
    "text1words = text1.split(\" \")\n",
    "for word in text1words:\n",
    "    try:\n",
    "        if text1words[1+text1words.index(word)] in total:\n",
    "            df.at[text1words[1+text1words.index(word)], word] += 1\n",
    "        if text1words[-1 + text1words.index(word)] in total:\n",
    "            df.at[word, text1words[-1 + text1words.index(word)]] += 1\n",
    "    except IndexError:\n",
    "        continue\n",
    "\n"
   ]
  },
  {
   "cell_type": "code",
   "execution_count": null,
   "id": "9cc0d401",
   "metadata": {},
   "outputs": [
    {
     "data": {
      "text/html": [
       "<div>\n",
       "<style scoped>\n",
       "    .dataframe tbody tr th:only-of-type {\n",
       "        vertical-align: middle;\n",
       "    }\n",
       "\n",
       "    .dataframe tbody tr th {\n",
       "        vertical-align: top;\n",
       "    }\n",
       "\n",
       "    .dataframe thead th {\n",
       "        text-align: right;\n",
       "    }\n",
       "</style>\n",
       "<table border=\"1\" class=\"dataframe\">\n",
       "  <thead>\n",
       "    <tr style=\"text-align: right;\">\n",
       "      <th></th>\n",
       "      <th>orange</th>\n",
       "      <th>sweet</th>\n",
       "      <th>apple</th>\n",
       "      <th>red</th>\n",
       "    </tr>\n",
       "  </thead>\n",
       "  <tbody>\n",
       "    <tr>\n",
       "      <th>orange</th>\n",
       "      <td>0</td>\n",
       "      <td>0</td>\n",
       "      <td>0</td>\n",
       "      <td>0</td>\n",
       "    </tr>\n",
       "    <tr>\n",
       "      <th>sweet</th>\n",
       "      <td>0</td>\n",
       "      <td>0</td>\n",
       "      <td>0</td>\n",
       "      <td>0</td>\n",
       "    </tr>\n",
       "    <tr>\n",
       "      <th>apple</th>\n",
       "      <td>0</td>\n",
       "      <td>0</td>\n",
       "      <td>0</td>\n",
       "      <td>1</td>\n",
       "    </tr>\n",
       "    <tr>\n",
       "      <th>red</th>\n",
       "      <td>0</td>\n",
       "      <td>0</td>\n",
       "      <td>1</td>\n",
       "      <td>0</td>\n",
       "    </tr>\n",
       "  </tbody>\n",
       "</table>\n",
       "</div>"
      ],
      "text/plain": [
       "        orange  sweet  apple  red\n",
       "orange       0      0      0    0\n",
       "sweet        0      0      0    0\n",
       "apple        0      0      0    1\n",
       "red          0      0      1    0"
      ]
     },
     "metadata": {},
     "output_type": "display_data"
    }
   ],
   "source": [
    "df"
   ]
  },
  {
   "cell_type": "code",
   "execution_count": null,
   "id": "d7d21757",
   "metadata": {},
   "outputs": [],
   "source": [
    "text2words = text2.split(\" \")\n",
    "for word in text2words:\n",
    "    try:\n",
    "        if text2words[1+text2words.index(word)] in total:\n",
    "            df.at[text2words[1+text2words.index(word)], word] += 1\n",
    "        if text2words[-1 + text2words.index(word)] in total:\n",
    "            df.at[word, text2words[-1 + text2words.index(word)]] += 1\n",
    "    except IndexError:\n",
    "        continue\n"
   ]
  },
  {
   "cell_type": "code",
   "execution_count": null,
   "id": "9e246639",
   "metadata": {},
   "outputs": [
    {
     "data": {
      "text/html": [
       "<div>\n",
       "<style scoped>\n",
       "    .dataframe tbody tr th:only-of-type {\n",
       "        vertical-align: middle;\n",
       "    }\n",
       "\n",
       "    .dataframe tbody tr th {\n",
       "        vertical-align: top;\n",
       "    }\n",
       "\n",
       "    .dataframe thead th {\n",
       "        text-align: right;\n",
       "    }\n",
       "</style>\n",
       "<table border=\"1\" class=\"dataframe\">\n",
       "  <thead>\n",
       "    <tr style=\"text-align: right;\">\n",
       "      <th></th>\n",
       "      <th>orange</th>\n",
       "      <th>sweet</th>\n",
       "      <th>apple</th>\n",
       "      <th>red</th>\n",
       "    </tr>\n",
       "  </thead>\n",
       "  <tbody>\n",
       "    <tr>\n",
       "      <th>orange</th>\n",
       "      <td>0</td>\n",
       "      <td>0</td>\n",
       "      <td>0</td>\n",
       "      <td>0</td>\n",
       "    </tr>\n",
       "    <tr>\n",
       "      <th>sweet</th>\n",
       "      <td>0</td>\n",
       "      <td>0</td>\n",
       "      <td>1</td>\n",
       "      <td>0</td>\n",
       "    </tr>\n",
       "    <tr>\n",
       "      <th>apple</th>\n",
       "      <td>0</td>\n",
       "      <td>1</td>\n",
       "      <td>0</td>\n",
       "      <td>1</td>\n",
       "    </tr>\n",
       "    <tr>\n",
       "      <th>red</th>\n",
       "      <td>0</td>\n",
       "      <td>0</td>\n",
       "      <td>1</td>\n",
       "      <td>0</td>\n",
       "    </tr>\n",
       "  </tbody>\n",
       "</table>\n",
       "</div>"
      ],
      "text/plain": [
       "        orange  sweet  apple  red\n",
       "orange       0      0      0    0\n",
       "sweet        0      0      1    0\n",
       "apple        0      1      0    1\n",
       "red          0      0      1    0"
      ]
     },
     "metadata": {},
     "output_type": "display_data"
    }
   ],
   "source": [
    "df"
   ]
  },
  {
   "cell_type": "code",
   "execution_count": null,
   "id": "09b0683e",
   "metadata": {},
   "outputs": [],
   "source": [
    "text3words = text3.split(\" \")\n",
    "for word in text3words:\n",
    "    try:\n",
    "        if text3words[1+text3words.index(word)] in total:\n",
    "            df.at[text3words[1+text3words.index(word)], word] += 1\n",
    "        if text3words[-1 + text3words.index(word)] in total:\n",
    "            df.at[word, text3words[-1 + text3words.index(word)]] += 1\n",
    "    except IndexError:\n",
    "        continue"
   ]
  },
  {
   "cell_type": "code",
   "execution_count": null,
   "id": "488036b8",
   "metadata": {},
   "outputs": [
    {
     "data": {
      "text/html": [
       "<div>\n",
       "<style scoped>\n",
       "    .dataframe tbody tr th:only-of-type {\n",
       "        vertical-align: middle;\n",
       "    }\n",
       "\n",
       "    .dataframe tbody tr th {\n",
       "        vertical-align: top;\n",
       "    }\n",
       "\n",
       "    .dataframe thead th {\n",
       "        text-align: right;\n",
       "    }\n",
       "</style>\n",
       "<table border=\"1\" class=\"dataframe\">\n",
       "  <thead>\n",
       "    <tr style=\"text-align: right;\">\n",
       "      <th></th>\n",
       "      <th>orange</th>\n",
       "      <th>sweet</th>\n",
       "      <th>apple</th>\n",
       "      <th>red</th>\n",
       "    </tr>\n",
       "  </thead>\n",
       "  <tbody>\n",
       "    <tr>\n",
       "      <th>orange</th>\n",
       "      <td>0</td>\n",
       "      <td>1</td>\n",
       "      <td>0</td>\n",
       "      <td>0</td>\n",
       "    </tr>\n",
       "    <tr>\n",
       "      <th>sweet</th>\n",
       "      <td>1</td>\n",
       "      <td>0</td>\n",
       "      <td>1</td>\n",
       "      <td>0</td>\n",
       "    </tr>\n",
       "    <tr>\n",
       "      <th>apple</th>\n",
       "      <td>0</td>\n",
       "      <td>1</td>\n",
       "      <td>0</td>\n",
       "      <td>1</td>\n",
       "    </tr>\n",
       "    <tr>\n",
       "      <th>red</th>\n",
       "      <td>0</td>\n",
       "      <td>0</td>\n",
       "      <td>1</td>\n",
       "      <td>0</td>\n",
       "    </tr>\n",
       "  </tbody>\n",
       "</table>\n",
       "</div>"
      ],
      "text/plain": [
       "        orange  sweet  apple  red\n",
       "orange       0      1      0    0\n",
       "sweet        1      0      1    0\n",
       "apple        0      1      0    1\n",
       "red          0      0      1    0"
      ]
     },
     "metadata": {},
     "output_type": "display_data"
    }
   ],
   "source": [
    "df"
   ]
  },
  {
   "cell_type": "code",
   "execution_count": null,
   "id": "27ef4701",
   "metadata": {},
   "outputs": [],
   "source": [
    "cm = np.array(df)"
   ]
  },
  {
   "cell_type": "code",
   "execution_count": null,
   "id": "2eb9ca55",
   "metadata": {},
   "outputs": [
    {
     "data": {
      "text/plain": [
       "array([[0, 1, 0, 0],\n",
       "       [1, 0, 1, 0],\n",
       "       [0, 1, 0, 1],\n",
       "       [0, 0, 1, 0]])"
      ]
     },
     "metadata": {},
     "output_type": "display_data"
    }
   ],
   "source": [
    "cm"
   ]
  },
  {
   "cell_type": "code",
   "execution_count": null,
   "id": "36fbaf16",
   "metadata": {},
   "outputs": [
    {
     "name": "stdout",
     "output_type": "stream",
     "text": [
      "        orange  sweet  apple  red\n",
      "orange       0      1      0    0\n",
      "sweet        1      0      1    0\n",
      "apple        0      1      0    1\n",
      "red          0      0      1    0\n"
     ]
    }
   ],
   "source": [
    "corpus = [text1, text2, text3]\n",
    "cm = makecm(corpus)\n",
    "print(cm)"
   ]
  },
  {
   "cell_type": "code",
   "execution_count": null,
   "id": "c4ae84fc",
   "metadata": {},
   "outputs": [],
   "source": [
    "cm_array = np.array(cm)"
   ]
  },
  {
   "cell_type": "code",
   "execution_count": null,
   "id": "fb1ef32c",
   "metadata": {},
   "outputs": [
    {
     "data": {
      "text/plain": [
       "array([[0, 1, 0, 0],\n",
       "       [1, 0, 1, 0],\n",
       "       [0, 1, 0, 1],\n",
       "       [0, 0, 1, 0]])"
      ]
     },
     "metadata": {},
     "output_type": "display_data"
    }
   ],
   "source": [
    "cm_array"
   ]
  },
  {
   "cell_type": "code",
   "execution_count": null,
   "id": "f5ebe0e8",
   "metadata": {},
   "outputs": [
    {
     "data": {
      "text/plain": [
       "array([[1, 0, 1, 0],\n",
       "       [1, 0, 0, 1],\n",
       "       [0, 1, 0, 1]])"
      ]
     },
     "metadata": {},
     "output_type": "display_data"
    }
   ],
   "source": [
    "from sklearn.feature_extraction.text import CountVectorizer\n",
    "vectorizer = CountVectorizer()\n",
    "X = vectorizer.fit_transform(corpus)"
   ]
  },
  {
   "cell_type": "code",
   "execution_count": null,
   "id": "ede39213",
   "metadata": {},
   "outputs": [],
   "source": [
    "X = cm_array\n",
    "from sklearn.decomposition import PCA\n",
    "\n",
    "pca = PCA(n_components=2)\n",
    "dense_vector = pca.fit_transform(X)"
   ]
  },
  {
   "cell_type": "code",
   "execution_count": null,
   "id": "9ef2858c",
   "metadata": {},
   "outputs": [
    {
     "data": {
      "text/plain": [
       "array([[ 0.60150096, -0.35355339],\n",
       "       [-0.97324899,  0.35355339],\n",
       "       [ 0.97324899,  0.35355339],\n",
       "       [-0.60150096, -0.35355339]])"
      ]
     },
     "metadata": {},
     "output_type": "display_data"
    }
   ],
   "source": [
    "dense_vector"
   ]
  },
  {
   "cell_type": "code",
   "execution_count": null,
   "id": "90febb48",
   "metadata": {},
   "outputs": [],
   "source": [
    "from numpy.linalg import svd\n",
    "from itertools import combinations"
   ]
  },
  {
   "cell_type": "code",
   "execution_count": null,
   "id": "1ff4c6e4",
   "metadata": {},
   "outputs": [],
   "source": [
    "U, s, Vt = svd(dense_vector, full_matrices=False)\n",
    "U2 = U[:, :2]\n",
    "S2 = np.diag(s[:2])\n",
    "embeddings = U2 @ S2"
   ]
  },
  {
   "cell_type": "code",
   "execution_count": null,
   "id": "131f873e",
   "metadata": {},
   "outputs": [
    {
     "data": {
      "text/plain": [
       "array([[-0.37174803,  0.5       ],\n",
       "       [ 0.60150096, -0.5       ],\n",
       "       [-0.60150096, -0.5       ],\n",
       "       [ 0.37174803,  0.5       ]])"
      ]
     },
     "metadata": {},
     "output_type": "display_data"
    }
   ],
   "source": [
    "U2"
   ]
  },
  {
   "cell_type": "code",
   "execution_count": null,
   "id": "0485bc9b",
   "metadata": {},
   "outputs": [
    {
     "data": {
      "text/plain": [
       "array([1.61803399, 0.70710678])"
      ]
     },
     "metadata": {},
     "output_type": "display_data"
    }
   ],
   "source": [
    "s"
   ]
  },
  {
   "cell_type": "code",
   "execution_count": null,
   "id": "0eea0609",
   "metadata": {},
   "outputs": [
    {
     "data": {
      "text/plain": [
       "array([[1.61803399, 0.        ],\n",
       "       [0.        , 0.70710678]])"
      ]
     },
     "metadata": {},
     "output_type": "display_data"
    }
   ],
   "source": [
    "S2"
   ]
  },
  {
   "cell_type": "code",
   "execution_count": null,
   "id": "7cb95294",
   "metadata": {},
   "outputs": [
    {
     "data": {
      "text/plain": [
       "array([[-1., -0.],\n",
       "       [-0., -1.]])"
      ]
     },
     "metadata": {},
     "output_type": "display_data"
    }
   ],
   "source": [
    "Vt"
   ]
  },
  {
   "cell_type": "code",
   "execution_count": null,
   "id": "234823ba",
   "metadata": {},
   "outputs": [
    {
     "data": {
      "text/plain": [
       "array([[-0.60150096,  0.35355339],\n",
       "       [ 0.97324899, -0.35355339],\n",
       "       [-0.97324899, -0.35355339],\n",
       "       [ 0.60150096,  0.35355339]])"
      ]
     },
     "metadata": {},
     "output_type": "display_data"
    }
   ],
   "source": [
    "embeddings"
   ]
  },
  {
   "cell_type": "code",
   "execution_count": null,
   "id": "b3d0b9b0",
   "metadata": {},
   "outputs": [],
   "source": [
    "def cos_sim(a, b):\n",
    "    return np.dot(a, b) / (np.linalg.norm(a) * np.linalg.norm(b))\n"
   ]
  },
  {
   "cell_type": "code",
   "execution_count": null,
   "id": "d14ead19",
   "metadata": {},
   "outputs": [
    {
     "name": "stdout",
     "output_type": "stream",
     "text": [
      "orange and sweet: -0.9833\n",
      "orange and apple: 0.6373\n",
      "orange and red: -0.4864\n",
      "sweet and apple: -0.7668\n",
      "sweet and red: 0.6373\n",
      "apple and red: -0.9833\n"
     ]
    }
   ],
   "source": [
    "for i, j in combinations(range(len(total)), 2):\n",
    "    sim = cos_sim(dense_vector[i], dense_vector[j])\n",
    "    print(f\"{total[i]} and {total[j]}: {sim:.4f}\")"
   ]
  },
  {
   "cell_type": "code",
   "execution_count": null,
   "id": "0dd6e29c",
   "metadata": {},
   "outputs": [
    {
     "name": "stdout",
     "output_type": "stream",
     "text": [
      "orange and sweet: -0.9833\n",
      "orange and apple: 0.6373\n",
      "orange and red: -0.4864\n",
      "sweet and apple: -0.7668\n",
      "sweet and red: 0.6373\n",
      "apple and red: -0.9833\n"
     ]
    }
   ],
   "source": [
    "for i, j in combinations(range(len(total)), 2):\n",
    "    sim = cos_sim(embeddings[i], embeddings[j])\n",
    "    print(f\"{total[i]} and {total[j]}: {sim:.4f}\")"
   ]
  }
 ],
 "metadata": {
  "kernelspec": {
   "display_name": ".venv",
   "language": "python",
   "name": "python3"
  },
  "language_info": {
   "name": "python",
   "version": "3.10.5"
  }
 },
 "nbformat": 4,
 "nbformat_minor": 5
}
