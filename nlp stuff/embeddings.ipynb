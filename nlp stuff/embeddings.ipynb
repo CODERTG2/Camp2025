{
 "cells": [
  {
   "cell_type": "code",
   "execution_count": 1,
   "id": "4fa79f2e",
   "metadata": {},
   "outputs": [],
   "source": [
    "text1 = \"Apples are red\"\n",
    "text2 = \"Apples are sweet\"\n",
    "text3 = \"Oranges are sweet\""
   ]
  },
  {
   "cell_type": "code",
   "execution_count": 2,
   "id": "1db92bfc",
   "metadata": {},
   "outputs": [
    {
     "name": "stderr",
     "output_type": "stream",
     "text": [
      "[nltk_data] Downloading package stopwords to\n",
      "[nltk_data]     /Users/tanmayshubhgarg/nltk_data...\n",
      "[nltk_data]   Package stopwords is already up-to-date!\n",
      "[nltk_data] Downloading package wordnet to\n",
      "[nltk_data]     /Users/tanmayshubhgarg/nltk_data...\n",
      "[nltk_data]   Package wordnet is already up-to-date!\n",
      "[nltk_data] Downloading package punkt to\n",
      "[nltk_data]     /Users/tanmayshubhgarg/nltk_data...\n",
      "[nltk_data]   Package punkt is already up-to-date!\n"
     ]
    }
   ],
   "source": [
    "import nltk\n",
    "from nltk.corpus import stopwords\n",
    "from nltk.stem import WordNetLemmatizer\n",
    "\n",
    "nltk.download('stopwords')\n",
    "nltk.download('wordnet')\n",
    "nltk.download('punkt')\n",
    "\n",
    "sw_nltk = stopwords.words('english')\n",
    "lemmatizer = WordNetLemmatizer()"
   ]
  },
  {
   "cell_type": "code",
   "execution_count": null,
   "id": "9e9d62d4",
   "metadata": {},
   "outputs": [],
   "source": [
    "unique_words = [word for text in [text1, text2, text3] for word in text.lower().split() if word not in sw_nltk]"
   ]
  },
  {
   "cell_type": "code",
   "execution_count": 6,
   "id": "41b92074",
   "metadata": {},
   "outputs": [],
   "source": [
    "unique_words = list(set(unique_words))"
   ]
  },
  {
   "cell_type": "code",
   "execution_count": 7,
   "id": "b47cefea",
   "metadata": {},
   "outputs": [
    {
     "data": {
      "text/plain": [
       "['oranges', 'sweet', 'red', 'apples']"
      ]
     },
     "execution_count": 7,
     "metadata": {},
     "output_type": "execute_result"
    }
   ],
   "source": [
    "unique_words"
   ]
  },
  {
   "cell_type": "code",
   "execution_count": null,
   "id": "cb6c560a",
   "metadata": {},
   "outputs": [],
   "source": []
  }
 ],
 "metadata": {
  "kernelspec": {
   "display_name": ".venv",
   "language": "python",
   "name": "python3"
  },
  "language_info": {
   "codemirror_mode": {
    "name": "ipython",
    "version": 3
   },
   "file_extension": ".py",
   "mimetype": "text/x-python",
   "name": "python",
   "nbconvert_exporter": "python",
   "pygments_lexer": "ipython3",
   "version": "3.10.5"
  }
 },
 "nbformat": 4,
 "nbformat_minor": 5
}
