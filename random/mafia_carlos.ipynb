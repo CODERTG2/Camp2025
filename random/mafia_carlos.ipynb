{
 "cells": [
  {
   "cell_type": "code",
   "execution_count": null,
   "id": "abce3aee",
   "metadata": {},
   "outputs": [],
   "source": [
    "import random\n",
    "\n",
    "counter_success = 0\n",
    "\n",
    "for i in range(10000):\n",
    "    person_a_choice = random.randint(0,15)\n",
    "    person_b_choice = random.randint(0,15)\n",
    "    if person_a_choice == person_b_choice:\n",
    "        counter_success+=1\n"
   ]
  },
  {
   "cell_type": "code",
   "execution_count": null,
   "id": "64c37c77",
   "metadata": {},
   "outputs": [
    {
     "data": {
      "text/plain": [
       "0.0642"
      ]
     },
     "metadata": {},
     "output_type": "display_data"
    }
   ],
   "source": [
    "counter_success/10000"
   ]
  }
 ],
 "metadata": {
  "language_info": {
   "name": "python"
  }
 },
 "nbformat": 4,
 "nbformat_minor": 5
}
