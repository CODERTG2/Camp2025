{
 "cells": [
  {
   "cell_type": "code",
   "execution_count": null,
   "id": "fa945da4",
   "metadata": {},
   "outputs": [
    {
     "name": "stdout",
     "output_type": "stream",
     "text": [
      "unexpected\n"
     ]
    }
   ],
   "source": [
    "print(\"unexpected\")"
   ]
  },
  {
   "cell_type": "code",
   "execution_count": 6,
   "id": "1ef1d460",
   "metadata": {},
   "outputs": [],
   "source": [
    "smthing = [1,2,4, (2,3,4,5, {\"key\": [1,2,3,4, {\"key2\": (234, 456)}]})]"
   ]
  },
  {
   "cell_type": "code",
   "execution_count": 8,
   "id": "dec199f8",
   "metadata": {},
   "outputs": [
    {
     "data": {
      "text/plain": [
       "456"
      ]
     },
     "execution_count": 8,
     "metadata": {},
     "output_type": "execute_result"
    }
   ],
   "source": [
    "smthing[-1][-1][\"key\"][-1][\"key2\"][-1]"
   ]
  },
  {
   "cell_type": "code",
   "execution_count": 10,
   "id": "7ac99fe9",
   "metadata": {},
   "outputs": [
    {
     "name": "stdout",
     "output_type": "stream",
     "text": [
      "Alice has passed the exam.\n"
     ]
    }
   ],
   "source": [
    "name = \"Alice\"\n",
    "Status = \"Passed\"\n",
    "\n",
    "if Status == \"Passed\":\n",
    "    print(f\"{name} has passed the exam.\")\n",
    "else:\n",
    "    print(f\"{name} has not passed the exam.\")"
   ]
  },
  {
   "cell_type": "code",
   "execution_count": 12,
   "id": "2ad5722d",
   "metadata": {},
   "outputs": [
    {
     "name": "stdout",
     "output_type": "stream",
     "text": [
      "0\n",
      "1\n",
      "2\n",
      "3\n",
      "4\n",
      "5\n",
      "6\n",
      "7\n",
      "8\n",
      "9\n"
     ]
    },
    {
     "data": {
      "text/plain": [
       "[None, None, None, None, None, None, None, None, None, None]"
      ]
     },
     "execution_count": 12,
     "metadata": {},
     "output_type": "execute_result"
    }
   ],
   "source": [
    "[print(x) for x in range(10)]"
   ]
  },
  {
   "cell_type": "code",
   "execution_count": 13,
   "id": "07c1b5a6",
   "metadata": {},
   "outputs": [
    {
     "ename": "ZeroDivisionError",
     "evalue": "division by zero",
     "output_type": "error",
     "traceback": [
      "\u001b[0;31m---------------------------------------------------------------------------\u001b[0m",
      "\u001b[0;31mZeroDivisionError\u001b[0m                         Traceback (most recent call last)",
      "Cell \u001b[0;32mIn[13], line 13\u001b[0m\n\u001b[1;32m     10\u001b[0m \u001b[38;5;28;01mfor\u001b[39;00m i \u001b[38;5;129;01min\u001b[39;00m y:\n\u001b[1;32m     11\u001b[0m     sumy \u001b[38;5;241m+\u001b[39m\u001b[38;5;241m=\u001b[39m i\n\u001b[0;32m---> 13\u001b[0m mean_x \u001b[38;5;241m=\u001b[39m \u001b[43msumx\u001b[49m\u001b[43m \u001b[49m\u001b[38;5;241;43m/\u001b[39;49m\u001b[43m \u001b[49m\u001b[38;5;28;43mlen\u001b[39;49m\u001b[43m(\u001b[49m\u001b[43mx\u001b[49m\u001b[43m)\u001b[49m\n\u001b[1;32m     14\u001b[0m mean_y \u001b[38;5;241m=\u001b[39m sumy \u001b[38;5;241m/\u001b[39m \u001b[38;5;28mlen\u001b[39m(y)\n\u001b[1;32m     16\u001b[0m numerator \u001b[38;5;241m=\u001b[39m \u001b[38;5;241m0\u001b[39m\n",
      "\u001b[0;31mZeroDivisionError\u001b[0m: division by zero"
     ]
    }
   ],
   "source": [
    "x = []\n",
    "y = []\n",
    "\n",
    "sumx = 0\n",
    "sumy = 0\n",
    "\n",
    "for i in x:\n",
    "    sumx += i\n",
    "\n",
    "for i in y:\n",
    "    sumy += i\n",
    "\n",
    "mean_x = sumx / len(x)\n",
    "mean_y = sumy / len(y)\n",
    "\n",
    "numerator = 0\n",
    "\n",
    "for i in range(len(x)):\n",
    "    numerator += (x[i] - mean_x) * (y[i] - mean_y)\n",
    "\n",
    "denominator_x = 0\n",
    "denominator_y = 0\n",
    "\n",
    "for i in range(len(x)):\n",
    "    denominator_x += (x[i] - mean_x) ** 2\n",
    "    denominator_y += (y[i] - mean_y) ** 2\n",
    "\n",
    "denominator = (denominator_x * denominator_y) ** 0.5\n",
    "\n",
    "correlation = numerator / denominator"
   ]
  },
  {
   "cell_type": "code",
   "execution_count": 18,
   "id": "a4b550c9",
   "metadata": {},
   "outputs": [
    {
     "name": "stdout",
     "output_type": "stream",
     "text": [
      "Jan 17 2025\n",
      "Feb 7 2025\n",
      "Feb 7 2025\n",
      "Feb 14 2025\n",
      "Feb 20 2025\n",
      "Feb 28 2025\n",
      "Mar 5 2025\n",
      "Mar 15 2025\n",
      "Mar 22 2025\n",
      "Mar 29 2025\n"
     ]
    }
   ],
   "source": [
    "dates = ['Fri, Jan 17-Sat, Jan 18', 'Fri, Feb 7', 'Fri, Feb 7', 'Fri, Feb 14', 'Thu, Feb 20', 'Fri, Feb 28', 'Wed, Mar 5', 'Sat, Mar 15', 'Sat, Mar 22', 'Sat, Mar 29']\n",
    "year = 2025\n",
    "for date in dates:\n",
    "    date = f\"{date.split('-')[0].split(',')[1].strip()} {year}\"\n",
    "    print(date)"
   ]
  },
  {
   "cell_type": "code",
   "execution_count": null,
   "id": "a4d53f0b",
   "metadata": {},
   "outputs": [],
   "source": []
  }
 ],
 "metadata": {
  "kernelspec": {
   "display_name": ".venv",
   "language": "python",
   "name": "python3"
  },
  "language_info": {
   "codemirror_mode": {
    "name": "ipython",
    "version": 3
   },
   "file_extension": ".py",
   "mimetype": "text/x-python",
   "name": "python",
   "nbconvert_exporter": "python",
   "pygments_lexer": "ipython3",
   "version": "3.10.5"
  }
 },
 "nbformat": 4,
 "nbformat_minor": 5
}
