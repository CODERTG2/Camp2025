{
 "cells": [
  {
   "cell_type": "code",
   "execution_count": null,
   "id": "fa945da4",
   "metadata": {},
   "outputs": [
    {
     "name": "stdout",
     "output_type": "stream",
     "text": [
      "unexpected\n"
     ]
    }
   ],
   "source": [
    "print(\"unexpected\")"
   ]
  },
  {
   "cell_type": "code",
   "execution_count": 6,
   "id": "1ef1d460",
   "metadata": {},
   "outputs": [],
   "source": [
    "smthing = [1,2,4, (2,3,4,5, {\"key\": [1,2,3,4, {\"key2\": (234, 456)}]})]"
   ]
  },
  {
   "cell_type": "code",
   "execution_count": 8,
   "id": "dec199f8",
   "metadata": {},
   "outputs": [
    {
     "data": {
      "text/plain": [
       "456"
      ]
     },
     "execution_count": 8,
     "metadata": {},
     "output_type": "execute_result"
    }
   ],
   "source": [
    "smthing[-1][-1][\"key\"][-1][\"key2\"][-1]"
   ]
  },
  {
   "cell_type": "code",
   "execution_count": 10,
   "id": "7ac99fe9",
   "metadata": {},
   "outputs": [
    {
     "name": "stdout",
     "output_type": "stream",
     "text": [
      "Alice has passed the exam.\n"
     ]
    }
   ],
   "source": [
    "name = \"Alice\"\n",
    "Status = \"Passed\"\n",
    "\n",
    "if Status == \"Passed\":\n",
    "    print(f\"{name} has passed the exam.\")\n",
    "else:\n",
    "    print(f\"{name} has not passed the exam.\")"
   ]
  },
  {
   "cell_type": "code",
   "execution_count": 12,
   "id": "2ad5722d",
   "metadata": {},
   "outputs": [
    {
     "name": "stdout",
     "output_type": "stream",
     "text": [
      "0\n",
      "1\n",
      "2\n",
      "3\n",
      "4\n",
      "5\n",
      "6\n",
      "7\n",
      "8\n",
      "9\n"
     ]
    },
    {
     "data": {
      "text/plain": [
       "[None, None, None, None, None, None, None, None, None, None]"
      ]
     },
     "execution_count": 12,
     "metadata": {},
     "output_type": "execute_result"
    }
   ],
   "source": [
    "[print(x) for x in range(10)]"
   ]
  },
  {
   "cell_type": "code",
   "execution_count": 13,
   "id": "07c1b5a6",
   "metadata": {},
   "outputs": [
    {
     "ename": "ZeroDivisionError",
     "evalue": "division by zero",
     "output_type": "error",
     "traceback": [
      "\u001b[0;31m---------------------------------------------------------------------------\u001b[0m",
      "\u001b[0;31mZeroDivisionError\u001b[0m                         Traceback (most recent call last)",
      "Cell \u001b[0;32mIn[13], line 13\u001b[0m\n\u001b[1;32m     10\u001b[0m \u001b[38;5;28;01mfor\u001b[39;00m i \u001b[38;5;129;01min\u001b[39;00m y:\n\u001b[1;32m     11\u001b[0m     sumy \u001b[38;5;241m+\u001b[39m\u001b[38;5;241m=\u001b[39m i\n\u001b[0;32m---> 13\u001b[0m mean_x \u001b[38;5;241m=\u001b[39m \u001b[43msumx\u001b[49m\u001b[43m \u001b[49m\u001b[38;5;241;43m/\u001b[39;49m\u001b[43m \u001b[49m\u001b[38;5;28;43mlen\u001b[39;49m\u001b[43m(\u001b[49m\u001b[43mx\u001b[49m\u001b[43m)\u001b[49m\n\u001b[1;32m     14\u001b[0m mean_y \u001b[38;5;241m=\u001b[39m sumy \u001b[38;5;241m/\u001b[39m \u001b[38;5;28mlen\u001b[39m(y)\n\u001b[1;32m     16\u001b[0m numerator \u001b[38;5;241m=\u001b[39m \u001b[38;5;241m0\u001b[39m\n",
      "\u001b[0;31mZeroDivisionError\u001b[0m: division by zero"
     ]
    }
   ],
   "source": [
    "x = []\n",
    "y = []\n",
    "\n",
    "sumx = 0\n",
    "sumy = 0\n",
    "\n",
    "for i in x:\n",
    "    sumx += i\n",
    "\n",
    "for i in y:\n",
    "    sumy += i\n",
    "\n",
    "mean_x = sumx / len(x)\n",
    "mean_y = sumy / len(y)\n",
    "\n",
    "numerator = 0\n",
    "\n",
    "for i in range(len(x)):\n",
    "    numerator += (x[i] - mean_x) * (y[i] - mean_y)\n",
    "\n",
    "denominator_x = 0\n",
    "denominator_y = 0\n",
    "\n",
    "for i in range(len(x)):\n",
    "    denominator_x += (x[i] - mean_x) ** 2\n",
    "    denominator_y += (y[i] - mean_y) ** 2\n",
    "\n",
    "denominator = (denominator_x * denominator_y) ** 0.5\n",
    "\n",
    "correlation = numerator / denominator"
   ]
  },
  {
   "cell_type": "code",
   "execution_count": 18,
   "id": "a4b550c9",
   "metadata": {},
   "outputs": [
    {
     "name": "stdout",
     "output_type": "stream",
     "text": [
      "Jan 17 2025\n",
      "Feb 7 2025\n",
      "Feb 7 2025\n",
      "Feb 14 2025\n",
      "Feb 20 2025\n",
      "Feb 28 2025\n",
      "Mar 5 2025\n",
      "Mar 15 2025\n",
      "Mar 22 2025\n",
      "Mar 29 2025\n"
     ]
    }
   ],
   "source": [
    "dates = ['Fri, Jan 17-Sat, Jan 18', 'Fri, Feb 7', 'Fri, Feb 7', 'Fri, Feb 14', 'Thu, Feb 20', 'Fri, Feb 28', 'Wed, Mar 5', 'Sat, Mar 15', 'Sat, Mar 22', 'Sat, Mar 29']\n",
    "year = 2025\n",
    "for date in dates:\n",
    "    date = f\"{date.split('-')[0].split(',')[1].strip()} {year}\"\n",
    "    print(date)"
   ]
  },
  {
   "cell_type": "code",
   "execution_count": null,
   "id": "a4d53f0b",
   "metadata": {},
   "outputs": [],
   "source": [
    "import numpy as np\n",
    "\n",
    "arr1 = np.array([[1, 2, 3], [4, 5, 0]])"
   ]
  },
  {
   "cell_type": "code",
   "execution_count": 12,
   "id": "2ee360c9",
   "metadata": {},
   "outputs": [],
   "source": [
    "import random\n",
    "\n",
    "counter_success = 0\n",
    "\n",
    "for i in range(10000):\n",
    "    person_a_choice = random.randint(0,15)\n",
    "    person_b_choice = random.randint(0,15)\n",
    "    if person_a_choice == person_b_choice:\n",
    "        counter_success+=1\n"
   ]
  },
  {
   "cell_type": "code",
   "execution_count": 14,
   "id": "9b7965b0",
   "metadata": {},
   "outputs": [
    {
     "data": {
      "text/plain": [
       "0.0642"
      ]
     },
     "execution_count": 14,
     "metadata": {},
     "output_type": "execute_result"
    }
   ],
   "source": [
    "counter_success/10000"
   ]
  },
  {
   "cell_type": "code",
   "execution_count": 24,
   "id": "7fe6d373",
   "metadata": {},
   "outputs": [],
   "source": [
    "import numpy as np\n",
    "\n",
    "a = np.array([[[1, 2, 3]], [[4, 5, 0]]])"
   ]
  },
  {
   "cell_type": "code",
   "execution_count": 32,
   "id": "d6b92e38",
   "metadata": {},
   "outputs": [],
   "source": [
    "text1 = \"Apples are red\"\n",
    "text2 = \"Apples are sweet\"\n",
    "text3 = \"Oranges are sweet\""
   ]
  },
  {
   "cell_type": "code",
   "execution_count": 33,
   "id": "149e477f",
   "metadata": {},
   "outputs": [
    {
     "name": "stderr",
     "output_type": "stream",
     "text": [
      "[nltk_data] Downloading package stopwords to\n",
      "[nltk_data]     /Users/tanmayshubhgarg/nltk_data...\n",
      "[nltk_data]   Package stopwords is already up-to-date!\n",
      "[nltk_data] Downloading package wordnet to\n",
      "[nltk_data]     /Users/tanmayshubhgarg/nltk_data...\n",
      "[nltk_data]   Package wordnet is already up-to-date!\n",
      "[nltk_data] Downloading package punkt to\n",
      "[nltk_data]     /Users/tanmayshubhgarg/nltk_data...\n",
      "[nltk_data]   Package punkt is already up-to-date!\n"
     ]
    }
   ],
   "source": [
    "import nltk\n",
    "from nltk.corpus import stopwords\n",
    "from nltk.stem import WordNetLemmatizer\n",
    "\n",
    "nltk.download('stopwords')\n",
    "nltk.download('wordnet')\n",
    "nltk.download('punkt')\n",
    "\n",
    "sw_nltk = stopwords.words('english')\n",
    "lemmatizer = WordNetLemmatizer()\n",
    "\n",
    "text1 = \" \".join([lemmatizer.lemmatize(word) for word in nltk.word_tokenize(text1.lower()) if word not in sw_nltk])\n",
    "text2 = \" \".join([lemmatizer.lemmatize(word) for word in nltk.word_tokenize(text2.lower()) if word not in sw_nltk])\n",
    "text3 = \" \".join([lemmatizer.lemmatize(word) for word in nltk.word_tokenize(text3.lower()) if word not in sw_nltk])"
   ]
  },
  {
   "cell_type": "code",
   "execution_count": 38,
   "id": "f1c23179",
   "metadata": {},
   "outputs": [
    {
     "name": "stdout",
     "output_type": "stream",
     "text": [
      "{'orange', 'sweet', 'apple', 'red'}\n"
     ]
    }
   ],
   "source": [
    "total = set(text1.lower().split(\" \") + text2.lower().split(\" \") + text3.lower().split(\" \"))\n",
    "print(total)\n",
    "total = list(total)"
   ]
  },
  {
   "cell_type": "code",
   "execution_count": 87,
   "id": "c1e60508",
   "metadata": {},
   "outputs": [],
   "source": [
    "import pandas as pd\n",
    "\n",
    "df = pd.DataFrame(0, index=total, columns=total)"
   ]
  },
  {
   "cell_type": "code",
   "execution_count": 88,
   "id": "c95691ef",
   "metadata": {},
   "outputs": [],
   "source": [
    "def makecm(corpus):\n",
    "    df = pd.DataFrame(0, index=total, columns=total)\n",
    "    for text in corpus:\n",
    "        words = text.split(\" \")\n",
    "        for word in words:\n",
    "            try:\n",
    "                if words[1 + words.index(word)] in total:\n",
    "                    df.at[words[1 + words.index(word)], word] += 1\n",
    "                if words[-1 + words.index(word)] in total:\n",
    "                    df.at[word, words[-1 + words.index(word)]] += 1\n",
    "            except IndexError:\n",
    "                continue\n",
    "    return df\n",
    "\n",
    "text1words = text1.split(\" \")\n",
    "for word in text1words:\n",
    "    try:\n",
    "        if text1words[1+text1words.index(word)] in total:\n",
    "            df.at[text1words[1+text1words.index(word)], word] += 1\n",
    "        if text1words[-1 + text1words.index(word)] in total:\n",
    "            df.at[word, text1words[-1 + text1words.index(word)]] += 1\n",
    "    except IndexError:\n",
    "        continue\n",
    "\n"
   ]
  },
  {
   "cell_type": "code",
   "execution_count": 89,
   "id": "d2c2999b",
   "metadata": {},
   "outputs": [
    {
     "data": {
      "text/html": [
       "<div>\n",
       "<style scoped>\n",
       "    .dataframe tbody tr th:only-of-type {\n",
       "        vertical-align: middle;\n",
       "    }\n",
       "\n",
       "    .dataframe tbody tr th {\n",
       "        vertical-align: top;\n",
       "    }\n",
       "\n",
       "    .dataframe thead th {\n",
       "        text-align: right;\n",
       "    }\n",
       "</style>\n",
       "<table border=\"1\" class=\"dataframe\">\n",
       "  <thead>\n",
       "    <tr style=\"text-align: right;\">\n",
       "      <th></th>\n",
       "      <th>orange</th>\n",
       "      <th>sweet</th>\n",
       "      <th>apple</th>\n",
       "      <th>red</th>\n",
       "    </tr>\n",
       "  </thead>\n",
       "  <tbody>\n",
       "    <tr>\n",
       "      <th>orange</th>\n",
       "      <td>0</td>\n",
       "      <td>0</td>\n",
       "      <td>0</td>\n",
       "      <td>0</td>\n",
       "    </tr>\n",
       "    <tr>\n",
       "      <th>sweet</th>\n",
       "      <td>0</td>\n",
       "      <td>0</td>\n",
       "      <td>0</td>\n",
       "      <td>0</td>\n",
       "    </tr>\n",
       "    <tr>\n",
       "      <th>apple</th>\n",
       "      <td>0</td>\n",
       "      <td>0</td>\n",
       "      <td>0</td>\n",
       "      <td>1</td>\n",
       "    </tr>\n",
       "    <tr>\n",
       "      <th>red</th>\n",
       "      <td>0</td>\n",
       "      <td>0</td>\n",
       "      <td>1</td>\n",
       "      <td>0</td>\n",
       "    </tr>\n",
       "  </tbody>\n",
       "</table>\n",
       "</div>"
      ],
      "text/plain": [
       "        orange  sweet  apple  red\n",
       "orange       0      0      0    0\n",
       "sweet        0      0      0    0\n",
       "apple        0      0      0    1\n",
       "red          0      0      1    0"
      ]
     },
     "execution_count": 89,
     "metadata": {},
     "output_type": "execute_result"
    }
   ],
   "source": [
    "df"
   ]
  },
  {
   "cell_type": "code",
   "execution_count": 90,
   "id": "09db54ea",
   "metadata": {},
   "outputs": [],
   "source": [
    "text2words = text2.split(\" \")\n",
    "for word in text2words:\n",
    "    try:\n",
    "        if text2words[1+text2words.index(word)] in total:\n",
    "            df.at[text2words[1+text2words.index(word)], word] += 1\n",
    "        if text2words[-1 + text2words.index(word)] in total:\n",
    "            df.at[word, text2words[-1 + text2words.index(word)]] += 1\n",
    "    except IndexError:\n",
    "        continue\n"
   ]
  },
  {
   "cell_type": "code",
   "execution_count": 91,
   "id": "284925a5",
   "metadata": {},
   "outputs": [
    {
     "data": {
      "text/html": [
       "<div>\n",
       "<style scoped>\n",
       "    .dataframe tbody tr th:only-of-type {\n",
       "        vertical-align: middle;\n",
       "    }\n",
       "\n",
       "    .dataframe tbody tr th {\n",
       "        vertical-align: top;\n",
       "    }\n",
       "\n",
       "    .dataframe thead th {\n",
       "        text-align: right;\n",
       "    }\n",
       "</style>\n",
       "<table border=\"1\" class=\"dataframe\">\n",
       "  <thead>\n",
       "    <tr style=\"text-align: right;\">\n",
       "      <th></th>\n",
       "      <th>orange</th>\n",
       "      <th>sweet</th>\n",
       "      <th>apple</th>\n",
       "      <th>red</th>\n",
       "    </tr>\n",
       "  </thead>\n",
       "  <tbody>\n",
       "    <tr>\n",
       "      <th>orange</th>\n",
       "      <td>0</td>\n",
       "      <td>0</td>\n",
       "      <td>0</td>\n",
       "      <td>0</td>\n",
       "    </tr>\n",
       "    <tr>\n",
       "      <th>sweet</th>\n",
       "      <td>0</td>\n",
       "      <td>0</td>\n",
       "      <td>1</td>\n",
       "      <td>0</td>\n",
       "    </tr>\n",
       "    <tr>\n",
       "      <th>apple</th>\n",
       "      <td>0</td>\n",
       "      <td>1</td>\n",
       "      <td>0</td>\n",
       "      <td>1</td>\n",
       "    </tr>\n",
       "    <tr>\n",
       "      <th>red</th>\n",
       "      <td>0</td>\n",
       "      <td>0</td>\n",
       "      <td>1</td>\n",
       "      <td>0</td>\n",
       "    </tr>\n",
       "  </tbody>\n",
       "</table>\n",
       "</div>"
      ],
      "text/plain": [
       "        orange  sweet  apple  red\n",
       "orange       0      0      0    0\n",
       "sweet        0      0      1    0\n",
       "apple        0      1      0    1\n",
       "red          0      0      1    0"
      ]
     },
     "execution_count": 91,
     "metadata": {},
     "output_type": "execute_result"
    }
   ],
   "source": [
    "df"
   ]
  },
  {
   "cell_type": "code",
   "execution_count": 92,
   "id": "e18b6ffe",
   "metadata": {},
   "outputs": [],
   "source": [
    "text3words = text3.split(\" \")\n",
    "for word in text3words:\n",
    "    try:\n",
    "        if text3words[1+text3words.index(word)] in total:\n",
    "            df.at[text3words[1+text3words.index(word)], word] += 1\n",
    "        if text3words[-1 + text3words.index(word)] in total:\n",
    "            df.at[word, text3words[-1 + text3words.index(word)]] += 1\n",
    "    except IndexError:\n",
    "        continue"
   ]
  },
  {
   "cell_type": "code",
   "execution_count": 93,
   "id": "863623d9",
   "metadata": {},
   "outputs": [
    {
     "data": {
      "text/html": [
       "<div>\n",
       "<style scoped>\n",
       "    .dataframe tbody tr th:only-of-type {\n",
       "        vertical-align: middle;\n",
       "    }\n",
       "\n",
       "    .dataframe tbody tr th {\n",
       "        vertical-align: top;\n",
       "    }\n",
       "\n",
       "    .dataframe thead th {\n",
       "        text-align: right;\n",
       "    }\n",
       "</style>\n",
       "<table border=\"1\" class=\"dataframe\">\n",
       "  <thead>\n",
       "    <tr style=\"text-align: right;\">\n",
       "      <th></th>\n",
       "      <th>orange</th>\n",
       "      <th>sweet</th>\n",
       "      <th>apple</th>\n",
       "      <th>red</th>\n",
       "    </tr>\n",
       "  </thead>\n",
       "  <tbody>\n",
       "    <tr>\n",
       "      <th>orange</th>\n",
       "      <td>0</td>\n",
       "      <td>1</td>\n",
       "      <td>0</td>\n",
       "      <td>0</td>\n",
       "    </tr>\n",
       "    <tr>\n",
       "      <th>sweet</th>\n",
       "      <td>1</td>\n",
       "      <td>0</td>\n",
       "      <td>1</td>\n",
       "      <td>0</td>\n",
       "    </tr>\n",
       "    <tr>\n",
       "      <th>apple</th>\n",
       "      <td>0</td>\n",
       "      <td>1</td>\n",
       "      <td>0</td>\n",
       "      <td>1</td>\n",
       "    </tr>\n",
       "    <tr>\n",
       "      <th>red</th>\n",
       "      <td>0</td>\n",
       "      <td>0</td>\n",
       "      <td>1</td>\n",
       "      <td>0</td>\n",
       "    </tr>\n",
       "  </tbody>\n",
       "</table>\n",
       "</div>"
      ],
      "text/plain": [
       "        orange  sweet  apple  red\n",
       "orange       0      1      0    0\n",
       "sweet        1      0      1    0\n",
       "apple        0      1      0    1\n",
       "red          0      0      1    0"
      ]
     },
     "execution_count": 93,
     "metadata": {},
     "output_type": "execute_result"
    }
   ],
   "source": [
    "df"
   ]
  },
  {
   "cell_type": "code",
   "execution_count": 94,
   "id": "51a4ed58",
   "metadata": {},
   "outputs": [],
   "source": [
    "cm = np.array(df)"
   ]
  },
  {
   "cell_type": "code",
   "execution_count": 95,
   "id": "5ca0ea05",
   "metadata": {},
   "outputs": [
    {
     "data": {
      "text/plain": [
       "array([[0, 1, 0, 0],\n",
       "       [1, 0, 1, 0],\n",
       "       [0, 1, 0, 1],\n",
       "       [0, 0, 1, 0]])"
      ]
     },
     "execution_count": 95,
     "metadata": {},
     "output_type": "execute_result"
    }
   ],
   "source": [
    "cm"
   ]
  },
  {
   "cell_type": "code",
   "execution_count": 96,
   "id": "596d397e",
   "metadata": {},
   "outputs": [
    {
     "name": "stdout",
     "output_type": "stream",
     "text": [
      "        orange  sweet  apple  red\n",
      "orange       0      1      0    0\n",
      "sweet        1      0      1    0\n",
      "apple        0      1      0    1\n",
      "red          0      0      1    0\n"
     ]
    }
   ],
   "source": [
    "corpus = [text1, text2, text3]\n",
    "cm = makecm(corpus)\n",
    "print(cm)"
   ]
  },
  {
   "cell_type": "code",
   "execution_count": 97,
   "id": "b9ed337f",
   "metadata": {},
   "outputs": [],
   "source": [
    "cm_array = np.array(cm)"
   ]
  },
  {
   "cell_type": "code",
   "execution_count": 98,
   "id": "a3f799c5",
   "metadata": {},
   "outputs": [
    {
     "data": {
      "text/plain": [
       "array([[0, 1, 0, 0],\n",
       "       [1, 0, 1, 0],\n",
       "       [0, 1, 0, 1],\n",
       "       [0, 0, 1, 0]])"
      ]
     },
     "execution_count": 98,
     "metadata": {},
     "output_type": "execute_result"
    }
   ],
   "source": [
    "cm_array"
   ]
  },
  {
   "cell_type": "code",
   "execution_count": null,
   "id": "543bb991",
   "metadata": {},
   "outputs": [
    {
     "data": {
      "text/plain": [
       "array([[1, 0, 1, 0],\n",
       "       [1, 0, 0, 1],\n",
       "       [0, 1, 0, 1]])"
      ]
     },
     "execution_count": 103,
     "metadata": {},
     "output_type": "execute_result"
    }
   ],
   "source": [
    "from sklearn.feature_extraction.text import CountVectorizer\n",
    "vectorizer = CountVectorizer()\n",
    "X = vectorizer.fit_transform(corpus)"
   ]
  },
  {
   "cell_type": "code",
   "execution_count": 107,
   "id": "574e811d",
   "metadata": {},
   "outputs": [],
   "source": [
    "X = cm_array\n",
    "from sklearn.decomposition import PCA\n",
    "\n",
    "pca = PCA(n_components=2)\n",
    "dense_vector = pca.fit_transform(X)"
   ]
  },
  {
   "cell_type": "code",
   "execution_count": 108,
   "id": "7d7d697f",
   "metadata": {},
   "outputs": [
    {
     "data": {
      "text/plain": [
       "array([[ 0.60150096, -0.35355339],\n",
       "       [-0.97324899,  0.35355339],\n",
       "       [ 0.97324899,  0.35355339],\n",
       "       [-0.60150096, -0.35355339]])"
      ]
     },
     "execution_count": 108,
     "metadata": {},
     "output_type": "execute_result"
    }
   ],
   "source": [
    "dense_vector"
   ]
  },
  {
   "cell_type": "code",
   "execution_count": 110,
   "id": "2a52c2fa",
   "metadata": {},
   "outputs": [],
   "source": [
    "from numpy.linalg import svd\n",
    "from itertools import combinations"
   ]
  },
  {
   "cell_type": "code",
   "execution_count": 112,
   "id": "9146d564",
   "metadata": {},
   "outputs": [],
   "source": [
    "U, s, Vt = svd(dense_vector, full_matrices=False)\n",
    "U2 = U[:, :2]\n",
    "S2 = np.diag(s[:2])\n",
    "embeddings = U2 @ S2"
   ]
  },
  {
   "cell_type": "code",
   "execution_count": 116,
   "id": "8757f3ba",
   "metadata": {},
   "outputs": [
    {
     "data": {
      "text/plain": [
       "array([[-0.37174803,  0.5       ],\n",
       "       [ 0.60150096, -0.5       ],\n",
       "       [-0.60150096, -0.5       ],\n",
       "       [ 0.37174803,  0.5       ]])"
      ]
     },
     "execution_count": 116,
     "metadata": {},
     "output_type": "execute_result"
    }
   ],
   "source": [
    "U2"
   ]
  },
  {
   "cell_type": "code",
   "execution_count": 118,
   "id": "161ac47f",
   "metadata": {},
   "outputs": [
    {
     "data": {
      "text/plain": [
       "array([1.61803399, 0.70710678])"
      ]
     },
     "execution_count": 118,
     "metadata": {},
     "output_type": "execute_result"
    }
   ],
   "source": [
    "s"
   ]
  },
  {
   "cell_type": "code",
   "execution_count": 119,
   "id": "be797adb",
   "metadata": {},
   "outputs": [
    {
     "data": {
      "text/plain": [
       "array([[1.61803399, 0.        ],\n",
       "       [0.        , 0.70710678]])"
      ]
     },
     "execution_count": 119,
     "metadata": {},
     "output_type": "execute_result"
    }
   ],
   "source": [
    "S2"
   ]
  },
  {
   "cell_type": "code",
   "execution_count": 120,
   "id": "37fac06c",
   "metadata": {},
   "outputs": [
    {
     "data": {
      "text/plain": [
       "array([[-1., -0.],\n",
       "       [-0., -1.]])"
      ]
     },
     "execution_count": 120,
     "metadata": {},
     "output_type": "execute_result"
    }
   ],
   "source": [
    "Vt"
   ]
  },
  {
   "cell_type": "code",
   "execution_count": 121,
   "id": "c862b729",
   "metadata": {},
   "outputs": [
    {
     "data": {
      "text/plain": [
       "array([[-0.60150096,  0.35355339],\n",
       "       [ 0.97324899, -0.35355339],\n",
       "       [-0.97324899, -0.35355339],\n",
       "       [ 0.60150096,  0.35355339]])"
      ]
     },
     "execution_count": 121,
     "metadata": {},
     "output_type": "execute_result"
    }
   ],
   "source": [
    "embeddings"
   ]
  },
  {
   "cell_type": "code",
   "execution_count": 122,
   "id": "61d76eac",
   "metadata": {},
   "outputs": [],
   "source": [
    "def cos_sim(a, b):\n",
    "    return np.dot(a, b) / (np.linalg.norm(a) * np.linalg.norm(b))\n"
   ]
  },
  {
   "cell_type": "code",
   "execution_count": 125,
   "id": "5e2eff81",
   "metadata": {},
   "outputs": [
    {
     "name": "stdout",
     "output_type": "stream",
     "text": [
      "orange and sweet: -0.9833\n",
      "orange and apple: 0.6373\n",
      "orange and red: -0.4864\n",
      "sweet and apple: -0.7668\n",
      "sweet and red: 0.6373\n",
      "apple and red: -0.9833\n"
     ]
    }
   ],
   "source": [
    "for i, j in combinations(range(len(total)), 2):\n",
    "    sim = cos_sim(dense_vector[i], dense_vector[j])\n",
    "    print(f\"{total[i]} and {total[j]}: {sim:.4f}\")"
   ]
  },
  {
   "cell_type": "code",
   "execution_count": 126,
   "id": "49e36263",
   "metadata": {},
   "outputs": [
    {
     "name": "stdout",
     "output_type": "stream",
     "text": [
      "orange and sweet: -0.9833\n",
      "orange and apple: 0.6373\n",
      "orange and red: -0.4864\n",
      "sweet and apple: -0.7668\n",
      "sweet and red: 0.6373\n",
      "apple and red: -0.9833\n"
     ]
    }
   ],
   "source": [
    "for i, j in combinations(range(len(total)), 2):\n",
    "    sim = cos_sim(embeddings[i], embeddings[j])\n",
    "    print(f\"{total[i]} and {total[j]}: {sim:.4f}\")"
   ]
  },
  {
   "cell_type": "code",
   "execution_count": null,
   "id": "46646e1c",
   "metadata": {},
   "outputs": [],
   "source": []
  }
 ],
 "metadata": {
  "kernelspec": {
   "display_name": ".venv",
   "language": "python",
   "name": "python3"
  },
  "language_info": {
   "codemirror_mode": {
    "name": "ipython",
    "version": 3
   },
   "file_extension": ".py",
   "mimetype": "text/x-python",
   "name": "python",
   "nbconvert_exporter": "python",
   "pygments_lexer": "ipython3",
   "version": "3.10.5"
  }
 },
 "nbformat": 4,
 "nbformat_minor": 5
}
