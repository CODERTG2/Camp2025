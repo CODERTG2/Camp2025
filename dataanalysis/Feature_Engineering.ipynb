{
  "cells": [
    {
      "cell_type": "code",
      "execution_count": 1,
      "metadata": {
        "colab": {
          "base_uri": "https://localhost:8080/"
        },
        "id": "MFQ4Wm4FNSFs",
        "outputId": "a790dd17-4352-4262-828d-6d4081611691"
      },
      "outputs": [
        {
          "name": "stdout",
          "output_type": "stream",
          "text": [
            "Requirement already satisfied: klib in /Users/tanmayshubhgarg/Documents/Projects/Camp2025/.venv/lib/python3.10/site-packages (1.3.2)\n",
            "Requirement already satisfied: jinja2>=3.1.0 in /Users/tanmayshubhgarg/Documents/Projects/Camp2025/.venv/lib/python3.10/site-packages (from klib) (3.1.6)\n",
            "Requirement already satisfied: matplotlib>=3.6.0 in /Users/tanmayshubhgarg/Documents/Projects/Camp2025/.venv/lib/python3.10/site-packages (from klib) (3.10.3)\n",
            "Requirement already satisfied: numpy>=1.26.0 in /Users/tanmayshubhgarg/Documents/Projects/Camp2025/.venv/lib/python3.10/site-packages (from klib) (2.2.6)\n",
            "Requirement already satisfied: pandas<3.0,>=1.4 in /Users/tanmayshubhgarg/Documents/Projects/Camp2025/.venv/lib/python3.10/site-packages (from klib) (2.3.1)\n",
            "Requirement already satisfied: plotly>=5.11.0 in /Users/tanmayshubhgarg/Documents/Projects/Camp2025/.venv/lib/python3.10/site-packages (from klib) (6.2.0)\n",
            "Requirement already satisfied: scipy>=1.10.0 in /Users/tanmayshubhgarg/Documents/Projects/Camp2025/.venv/lib/python3.10/site-packages (from klib) (1.15.3)\n",
            "Requirement already satisfied: screeninfo>=0.8.1 in /Users/tanmayshubhgarg/Documents/Projects/Camp2025/.venv/lib/python3.10/site-packages (from klib) (0.8.1)\n",
            "Requirement already satisfied: seaborn>=0.12.0 in /Users/tanmayshubhgarg/Documents/Projects/Camp2025/.venv/lib/python3.10/site-packages (from klib) (0.13.2)\n",
            "Requirement already satisfied: python-dateutil>=2.8.2 in /Users/tanmayshubhgarg/Documents/Projects/Camp2025/.venv/lib/python3.10/site-packages (from pandas<3.0,>=1.4->klib) (2.9.0.post0)\n",
            "Requirement already satisfied: pytz>=2020.1 in /Users/tanmayshubhgarg/Documents/Projects/Camp2025/.venv/lib/python3.10/site-packages (from pandas<3.0,>=1.4->klib) (2025.2)\n",
            "Requirement already satisfied: tzdata>=2022.7 in /Users/tanmayshubhgarg/Documents/Projects/Camp2025/.venv/lib/python3.10/site-packages (from pandas<3.0,>=1.4->klib) (2025.2)\n",
            "Requirement already satisfied: MarkupSafe>=2.0 in /Users/tanmayshubhgarg/Documents/Projects/Camp2025/.venv/lib/python3.10/site-packages (from jinja2>=3.1.0->klib) (3.0.2)\n",
            "Requirement already satisfied: contourpy>=1.0.1 in /Users/tanmayshubhgarg/Documents/Projects/Camp2025/.venv/lib/python3.10/site-packages (from matplotlib>=3.6.0->klib) (1.3.2)\n",
            "Requirement already satisfied: cycler>=0.10 in /Users/tanmayshubhgarg/Documents/Projects/Camp2025/.venv/lib/python3.10/site-packages (from matplotlib>=3.6.0->klib) (0.12.1)\n",
            "Requirement already satisfied: fonttools>=4.22.0 in /Users/tanmayshubhgarg/Documents/Projects/Camp2025/.venv/lib/python3.10/site-packages (from matplotlib>=3.6.0->klib) (4.58.5)\n",
            "Requirement already satisfied: kiwisolver>=1.3.1 in /Users/tanmayshubhgarg/Documents/Projects/Camp2025/.venv/lib/python3.10/site-packages (from matplotlib>=3.6.0->klib) (1.4.8)\n",
            "Requirement already satisfied: packaging>=20.0 in /Users/tanmayshubhgarg/Documents/Projects/Camp2025/.venv/lib/python3.10/site-packages (from matplotlib>=3.6.0->klib) (25.0)\n",
            "Requirement already satisfied: pillow>=8 in /Users/tanmayshubhgarg/Documents/Projects/Camp2025/.venv/lib/python3.10/site-packages (from matplotlib>=3.6.0->klib) (11.3.0)\n",
            "Requirement already satisfied: pyparsing>=2.3.1 in /Users/tanmayshubhgarg/Documents/Projects/Camp2025/.venv/lib/python3.10/site-packages (from matplotlib>=3.6.0->klib) (3.2.3)\n",
            "Requirement already satisfied: narwhals>=1.15.1 in /Users/tanmayshubhgarg/Documents/Projects/Camp2025/.venv/lib/python3.10/site-packages (from plotly>=5.11.0->klib) (1.47.0)\n",
            "Requirement already satisfied: six>=1.5 in /Users/tanmayshubhgarg/Documents/Projects/Camp2025/.venv/lib/python3.10/site-packages (from python-dateutil>=2.8.2->pandas<3.0,>=1.4->klib) (1.17.0)\n",
            "Requirement already satisfied: Cython in /Users/tanmayshubhgarg/Documents/Projects/Camp2025/.venv/lib/python3.10/site-packages (from screeninfo>=0.8.1->klib) (3.1.2)\n",
            "Requirement already satisfied: pyobjc-framework-Cocoa in /Users/tanmayshubhgarg/Documents/Projects/Camp2025/.venv/lib/python3.10/site-packages (from screeninfo>=0.8.1->klib) (11.1)\n",
            "Requirement already satisfied: pyobjc-core>=11.1 in /Users/tanmayshubhgarg/Documents/Projects/Camp2025/.venv/lib/python3.10/site-packages (from pyobjc-framework-Cocoa->screeninfo>=0.8.1->klib) (11.1)\n",
            "Note: you may need to restart the kernel to use updated packages.\n"
          ]
        }
      ],
      "source": [
        "pip install klib"
      ]
    },
    {
      "cell_type": "code",
      "execution_count": 2,
      "metadata": {
        "id": "p2OvtZIcNSFv"
      },
      "outputs": [],
      "source": [
        "import pandas as pd\n",
        "import numpy as np\n",
        "import klib"
      ]
    },
    {
      "cell_type": "code",
      "execution_count": 3,
      "metadata": {
        "colab": {
          "base_uri": "https://localhost:8080/",
          "height": 282
        },
        "id": "aheeDvLzNSFv",
        "outputId": "b7daa7b9-e238-4d65-b369-55efd2892ab2"
      },
      "outputs": [
        {
          "ename": "FileNotFoundError",
          "evalue": "[Errno 2] No such file or directory: 'Apprentice_Chef_Dataset.csv'",
          "output_type": "error",
          "traceback": [
            "\u001b[0;31m---------------------------------------------------------------------------\u001b[0m",
            "\u001b[0;31mFileNotFoundError\u001b[0m                         Traceback (most recent call last)",
            "Cell \u001b[0;32mIn[3], line 1\u001b[0m\n\u001b[0;32m----> 1\u001b[0m df \u001b[38;5;241m=\u001b[39m \u001b[43mpd\u001b[49m\u001b[38;5;241;43m.\u001b[39;49m\u001b[43mread_csv\u001b[49m\u001b[43m(\u001b[49m\u001b[38;5;124;43m\"\u001b[39;49m\u001b[38;5;124;43mApprentice_Chef_Dataset.csv\u001b[39;49m\u001b[38;5;124;43m\"\u001b[39;49m\u001b[43m)\u001b[49m\n",
            "File \u001b[0;32m~/Documents/Projects/Camp2025/.venv/lib/python3.10/site-packages/pandas/io/parsers/readers.py:1026\u001b[0m, in \u001b[0;36mread_csv\u001b[0;34m(filepath_or_buffer, sep, delimiter, header, names, index_col, usecols, dtype, engine, converters, true_values, false_values, skipinitialspace, skiprows, skipfooter, nrows, na_values, keep_default_na, na_filter, verbose, skip_blank_lines, parse_dates, infer_datetime_format, keep_date_col, date_parser, date_format, dayfirst, cache_dates, iterator, chunksize, compression, thousands, decimal, lineterminator, quotechar, quoting, doublequote, escapechar, comment, encoding, encoding_errors, dialect, on_bad_lines, delim_whitespace, low_memory, memory_map, float_precision, storage_options, dtype_backend)\u001b[0m\n\u001b[1;32m   1013\u001b[0m kwds_defaults \u001b[38;5;241m=\u001b[39m _refine_defaults_read(\n\u001b[1;32m   1014\u001b[0m     dialect,\n\u001b[1;32m   1015\u001b[0m     delimiter,\n\u001b[0;32m   (...)\u001b[0m\n\u001b[1;32m   1022\u001b[0m     dtype_backend\u001b[38;5;241m=\u001b[39mdtype_backend,\n\u001b[1;32m   1023\u001b[0m )\n\u001b[1;32m   1024\u001b[0m kwds\u001b[38;5;241m.\u001b[39mupdate(kwds_defaults)\n\u001b[0;32m-> 1026\u001b[0m \u001b[38;5;28;01mreturn\u001b[39;00m \u001b[43m_read\u001b[49m\u001b[43m(\u001b[49m\u001b[43mfilepath_or_buffer\u001b[49m\u001b[43m,\u001b[49m\u001b[43m \u001b[49m\u001b[43mkwds\u001b[49m\u001b[43m)\u001b[49m\n",
            "File \u001b[0;32m~/Documents/Projects/Camp2025/.venv/lib/python3.10/site-packages/pandas/io/parsers/readers.py:620\u001b[0m, in \u001b[0;36m_read\u001b[0;34m(filepath_or_buffer, kwds)\u001b[0m\n\u001b[1;32m    617\u001b[0m _validate_names(kwds\u001b[38;5;241m.\u001b[39mget(\u001b[38;5;124m\"\u001b[39m\u001b[38;5;124mnames\u001b[39m\u001b[38;5;124m\"\u001b[39m, \u001b[38;5;28;01mNone\u001b[39;00m))\n\u001b[1;32m    619\u001b[0m \u001b[38;5;66;03m# Create the parser.\u001b[39;00m\n\u001b[0;32m--> 620\u001b[0m parser \u001b[38;5;241m=\u001b[39m \u001b[43mTextFileReader\u001b[49m\u001b[43m(\u001b[49m\u001b[43mfilepath_or_buffer\u001b[49m\u001b[43m,\u001b[49m\u001b[43m \u001b[49m\u001b[38;5;241;43m*\u001b[39;49m\u001b[38;5;241;43m*\u001b[39;49m\u001b[43mkwds\u001b[49m\u001b[43m)\u001b[49m\n\u001b[1;32m    622\u001b[0m \u001b[38;5;28;01mif\u001b[39;00m chunksize \u001b[38;5;129;01mor\u001b[39;00m iterator:\n\u001b[1;32m    623\u001b[0m     \u001b[38;5;28;01mreturn\u001b[39;00m parser\n",
            "File \u001b[0;32m~/Documents/Projects/Camp2025/.venv/lib/python3.10/site-packages/pandas/io/parsers/readers.py:1620\u001b[0m, in \u001b[0;36mTextFileReader.__init__\u001b[0;34m(self, f, engine, **kwds)\u001b[0m\n\u001b[1;32m   1617\u001b[0m     \u001b[38;5;28mself\u001b[39m\u001b[38;5;241m.\u001b[39moptions[\u001b[38;5;124m\"\u001b[39m\u001b[38;5;124mhas_index_names\u001b[39m\u001b[38;5;124m\"\u001b[39m] \u001b[38;5;241m=\u001b[39m kwds[\u001b[38;5;124m\"\u001b[39m\u001b[38;5;124mhas_index_names\u001b[39m\u001b[38;5;124m\"\u001b[39m]\n\u001b[1;32m   1619\u001b[0m \u001b[38;5;28mself\u001b[39m\u001b[38;5;241m.\u001b[39mhandles: IOHandles \u001b[38;5;241m|\u001b[39m \u001b[38;5;28;01mNone\u001b[39;00m \u001b[38;5;241m=\u001b[39m \u001b[38;5;28;01mNone\u001b[39;00m\n\u001b[0;32m-> 1620\u001b[0m \u001b[38;5;28mself\u001b[39m\u001b[38;5;241m.\u001b[39m_engine \u001b[38;5;241m=\u001b[39m \u001b[38;5;28;43mself\u001b[39;49m\u001b[38;5;241;43m.\u001b[39;49m\u001b[43m_make_engine\u001b[49m\u001b[43m(\u001b[49m\u001b[43mf\u001b[49m\u001b[43m,\u001b[49m\u001b[43m \u001b[49m\u001b[38;5;28;43mself\u001b[39;49m\u001b[38;5;241;43m.\u001b[39;49m\u001b[43mengine\u001b[49m\u001b[43m)\u001b[49m\n",
            "File \u001b[0;32m~/Documents/Projects/Camp2025/.venv/lib/python3.10/site-packages/pandas/io/parsers/readers.py:1880\u001b[0m, in \u001b[0;36mTextFileReader._make_engine\u001b[0;34m(self, f, engine)\u001b[0m\n\u001b[1;32m   1878\u001b[0m     \u001b[38;5;28;01mif\u001b[39;00m \u001b[38;5;124m\"\u001b[39m\u001b[38;5;124mb\u001b[39m\u001b[38;5;124m\"\u001b[39m \u001b[38;5;129;01mnot\u001b[39;00m \u001b[38;5;129;01min\u001b[39;00m mode:\n\u001b[1;32m   1879\u001b[0m         mode \u001b[38;5;241m+\u001b[39m\u001b[38;5;241m=\u001b[39m \u001b[38;5;124m\"\u001b[39m\u001b[38;5;124mb\u001b[39m\u001b[38;5;124m\"\u001b[39m\n\u001b[0;32m-> 1880\u001b[0m \u001b[38;5;28mself\u001b[39m\u001b[38;5;241m.\u001b[39mhandles \u001b[38;5;241m=\u001b[39m \u001b[43mget_handle\u001b[49m\u001b[43m(\u001b[49m\n\u001b[1;32m   1881\u001b[0m \u001b[43m    \u001b[49m\u001b[43mf\u001b[49m\u001b[43m,\u001b[49m\n\u001b[1;32m   1882\u001b[0m \u001b[43m    \u001b[49m\u001b[43mmode\u001b[49m\u001b[43m,\u001b[49m\n\u001b[1;32m   1883\u001b[0m \u001b[43m    \u001b[49m\u001b[43mencoding\u001b[49m\u001b[38;5;241;43m=\u001b[39;49m\u001b[38;5;28;43mself\u001b[39;49m\u001b[38;5;241;43m.\u001b[39;49m\u001b[43moptions\u001b[49m\u001b[38;5;241;43m.\u001b[39;49m\u001b[43mget\u001b[49m\u001b[43m(\u001b[49m\u001b[38;5;124;43m\"\u001b[39;49m\u001b[38;5;124;43mencoding\u001b[39;49m\u001b[38;5;124;43m\"\u001b[39;49m\u001b[43m,\u001b[49m\u001b[43m \u001b[49m\u001b[38;5;28;43;01mNone\u001b[39;49;00m\u001b[43m)\u001b[49m\u001b[43m,\u001b[49m\n\u001b[1;32m   1884\u001b[0m \u001b[43m    \u001b[49m\u001b[43mcompression\u001b[49m\u001b[38;5;241;43m=\u001b[39;49m\u001b[38;5;28;43mself\u001b[39;49m\u001b[38;5;241;43m.\u001b[39;49m\u001b[43moptions\u001b[49m\u001b[38;5;241;43m.\u001b[39;49m\u001b[43mget\u001b[49m\u001b[43m(\u001b[49m\u001b[38;5;124;43m\"\u001b[39;49m\u001b[38;5;124;43mcompression\u001b[39;49m\u001b[38;5;124;43m\"\u001b[39;49m\u001b[43m,\u001b[49m\u001b[43m \u001b[49m\u001b[38;5;28;43;01mNone\u001b[39;49;00m\u001b[43m)\u001b[49m\u001b[43m,\u001b[49m\n\u001b[1;32m   1885\u001b[0m \u001b[43m    \u001b[49m\u001b[43mmemory_map\u001b[49m\u001b[38;5;241;43m=\u001b[39;49m\u001b[38;5;28;43mself\u001b[39;49m\u001b[38;5;241;43m.\u001b[39;49m\u001b[43moptions\u001b[49m\u001b[38;5;241;43m.\u001b[39;49m\u001b[43mget\u001b[49m\u001b[43m(\u001b[49m\u001b[38;5;124;43m\"\u001b[39;49m\u001b[38;5;124;43mmemory_map\u001b[39;49m\u001b[38;5;124;43m\"\u001b[39;49m\u001b[43m,\u001b[49m\u001b[43m \u001b[49m\u001b[38;5;28;43;01mFalse\u001b[39;49;00m\u001b[43m)\u001b[49m\u001b[43m,\u001b[49m\n\u001b[1;32m   1886\u001b[0m \u001b[43m    \u001b[49m\u001b[43mis_text\u001b[49m\u001b[38;5;241;43m=\u001b[39;49m\u001b[43mis_text\u001b[49m\u001b[43m,\u001b[49m\n\u001b[1;32m   1887\u001b[0m \u001b[43m    \u001b[49m\u001b[43merrors\u001b[49m\u001b[38;5;241;43m=\u001b[39;49m\u001b[38;5;28;43mself\u001b[39;49m\u001b[38;5;241;43m.\u001b[39;49m\u001b[43moptions\u001b[49m\u001b[38;5;241;43m.\u001b[39;49m\u001b[43mget\u001b[49m\u001b[43m(\u001b[49m\u001b[38;5;124;43m\"\u001b[39;49m\u001b[38;5;124;43mencoding_errors\u001b[39;49m\u001b[38;5;124;43m\"\u001b[39;49m\u001b[43m,\u001b[49m\u001b[43m \u001b[49m\u001b[38;5;124;43m\"\u001b[39;49m\u001b[38;5;124;43mstrict\u001b[39;49m\u001b[38;5;124;43m\"\u001b[39;49m\u001b[43m)\u001b[49m\u001b[43m,\u001b[49m\n\u001b[1;32m   1888\u001b[0m \u001b[43m    \u001b[49m\u001b[43mstorage_options\u001b[49m\u001b[38;5;241;43m=\u001b[39;49m\u001b[38;5;28;43mself\u001b[39;49m\u001b[38;5;241;43m.\u001b[39;49m\u001b[43moptions\u001b[49m\u001b[38;5;241;43m.\u001b[39;49m\u001b[43mget\u001b[49m\u001b[43m(\u001b[49m\u001b[38;5;124;43m\"\u001b[39;49m\u001b[38;5;124;43mstorage_options\u001b[39;49m\u001b[38;5;124;43m\"\u001b[39;49m\u001b[43m,\u001b[49m\u001b[43m \u001b[49m\u001b[38;5;28;43;01mNone\u001b[39;49;00m\u001b[43m)\u001b[49m\u001b[43m,\u001b[49m\n\u001b[1;32m   1889\u001b[0m \u001b[43m\u001b[49m\u001b[43m)\u001b[49m\n\u001b[1;32m   1890\u001b[0m \u001b[38;5;28;01massert\u001b[39;00m \u001b[38;5;28mself\u001b[39m\u001b[38;5;241m.\u001b[39mhandles \u001b[38;5;129;01mis\u001b[39;00m \u001b[38;5;129;01mnot\u001b[39;00m \u001b[38;5;28;01mNone\u001b[39;00m\n\u001b[1;32m   1891\u001b[0m f \u001b[38;5;241m=\u001b[39m \u001b[38;5;28mself\u001b[39m\u001b[38;5;241m.\u001b[39mhandles\u001b[38;5;241m.\u001b[39mhandle\n",
            "File \u001b[0;32m~/Documents/Projects/Camp2025/.venv/lib/python3.10/site-packages/pandas/io/common.py:873\u001b[0m, in \u001b[0;36mget_handle\u001b[0;34m(path_or_buf, mode, encoding, compression, memory_map, is_text, errors, storage_options)\u001b[0m\n\u001b[1;32m    868\u001b[0m \u001b[38;5;28;01melif\u001b[39;00m \u001b[38;5;28misinstance\u001b[39m(handle, \u001b[38;5;28mstr\u001b[39m):\n\u001b[1;32m    869\u001b[0m     \u001b[38;5;66;03m# Check whether the filename is to be opened in binary mode.\u001b[39;00m\n\u001b[1;32m    870\u001b[0m     \u001b[38;5;66;03m# Binary mode does not support 'encoding' and 'newline'.\u001b[39;00m\n\u001b[1;32m    871\u001b[0m     \u001b[38;5;28;01mif\u001b[39;00m ioargs\u001b[38;5;241m.\u001b[39mencoding \u001b[38;5;129;01mand\u001b[39;00m \u001b[38;5;124m\"\u001b[39m\u001b[38;5;124mb\u001b[39m\u001b[38;5;124m\"\u001b[39m \u001b[38;5;129;01mnot\u001b[39;00m \u001b[38;5;129;01min\u001b[39;00m ioargs\u001b[38;5;241m.\u001b[39mmode:\n\u001b[1;32m    872\u001b[0m         \u001b[38;5;66;03m# Encoding\u001b[39;00m\n\u001b[0;32m--> 873\u001b[0m         handle \u001b[38;5;241m=\u001b[39m \u001b[38;5;28;43mopen\u001b[39;49m\u001b[43m(\u001b[49m\n\u001b[1;32m    874\u001b[0m \u001b[43m            \u001b[49m\u001b[43mhandle\u001b[49m\u001b[43m,\u001b[49m\n\u001b[1;32m    875\u001b[0m \u001b[43m            \u001b[49m\u001b[43mioargs\u001b[49m\u001b[38;5;241;43m.\u001b[39;49m\u001b[43mmode\u001b[49m\u001b[43m,\u001b[49m\n\u001b[1;32m    876\u001b[0m \u001b[43m            \u001b[49m\u001b[43mencoding\u001b[49m\u001b[38;5;241;43m=\u001b[39;49m\u001b[43mioargs\u001b[49m\u001b[38;5;241;43m.\u001b[39;49m\u001b[43mencoding\u001b[49m\u001b[43m,\u001b[49m\n\u001b[1;32m    877\u001b[0m \u001b[43m            \u001b[49m\u001b[43merrors\u001b[49m\u001b[38;5;241;43m=\u001b[39;49m\u001b[43merrors\u001b[49m\u001b[43m,\u001b[49m\n\u001b[1;32m    878\u001b[0m \u001b[43m            \u001b[49m\u001b[43mnewline\u001b[49m\u001b[38;5;241;43m=\u001b[39;49m\u001b[38;5;124;43m\"\u001b[39;49m\u001b[38;5;124;43m\"\u001b[39;49m\u001b[43m,\u001b[49m\n\u001b[1;32m    879\u001b[0m \u001b[43m        \u001b[49m\u001b[43m)\u001b[49m\n\u001b[1;32m    880\u001b[0m     \u001b[38;5;28;01melse\u001b[39;00m:\n\u001b[1;32m    881\u001b[0m         \u001b[38;5;66;03m# Binary mode\u001b[39;00m\n\u001b[1;32m    882\u001b[0m         handle \u001b[38;5;241m=\u001b[39m \u001b[38;5;28mopen\u001b[39m(handle, ioargs\u001b[38;5;241m.\u001b[39mmode)\n",
            "\u001b[0;31mFileNotFoundError\u001b[0m: [Errno 2] No such file or directory: 'Apprentice_Chef_Dataset.csv'"
          ]
        }
      ],
      "source": [
        "df = pd.read_csv(\"Apprentice_Chef_Dataset.csv\")"
      ]
    },
    {
      "cell_type": "code",
      "execution_count": null,
      "metadata": {
        "id": "4L2FwqLzNSFw"
      },
      "outputs": [],
      "source": [
        "df.columns"
      ]
    },
    {
      "cell_type": "code",
      "execution_count": null,
      "metadata": {
        "id": "SW9CkhnLNSFx"
      },
      "outputs": [],
      "source": [
        "df.head()"
      ]
    },
    {
      "cell_type": "code",
      "execution_count": null,
      "metadata": {
        "id": "TKiGcLrCNSFy"
      },
      "outputs": [],
      "source": [
        "klib.missingval_plot(df)"
      ]
    },
    {
      "cell_type": "code",
      "execution_count": null,
      "metadata": {
        "id": "R20BJNsPNSFy"
      },
      "outputs": [],
      "source": [
        "klib.corr_plot(df, split='pos') # displaying only positive correlations, other settings include threshold, cmap...\n",
        "klib.corr_plot(df, split='neg') # displaying only negative correlations"
      ]
    },
    {
      "cell_type": "code",
      "execution_count": null,
      "metadata": {
        "id": "SgeqXRTuNSFz"
      },
      "outputs": [],
      "source": [
        "klib.corr_plot(df, target='CROSS_SELL_SUCCESS')"
      ]
    },
    {
      "cell_type": "code",
      "execution_count": null,
      "metadata": {
        "id": "sbTxFPLcNSFz"
      },
      "outputs": [],
      "source": [
        "df.dtypes"
      ]
    },
    {
      "cell_type": "code",
      "execution_count": null,
      "metadata": {
        "id": "ZtqfK69QNSF0"
      },
      "outputs": [],
      "source": []
    },
    {
      "cell_type": "code",
      "execution_count": null,
      "metadata": {
        "id": "GIi1P-PRNSF0"
      },
      "outputs": [],
      "source": [
        "import statsmodels.api as sm\n",
        "from statsmodels.stats.outliers_influence import variance_inflation_factor\n",
        "\n",
        "# Select numerical columns and the target variable\n",
        "numerical_columns = df.select_dtypes(exclude=['object']).columns.tolist()\n",
        "\n",
        "# Extract the features and the target variable\n",
        "X = df[numerical_columns].drop(columns=['CROSS_SELL_SUCCESS'])\n",
        "y = df['CROSS_SELL_SUCCESS']\n",
        "\n",
        "# Add a constant column for the intercept term\n",
        "X = sm.add_constant(X)\n",
        "\n",
        "# Calculate VIF for each feature, excluding the constant term\n",
        "vif_data = pd.DataFrame()\n",
        "vif_data['feature'] = X.columns\n",
        "vif_data['VIF'] = [variance_inflation_factor(X.values, i) for i in range(X.shape[1])]\n",
        "\n",
        "# Exclude the constant term from the VIF data\n",
        "vif_data = vif_data[vif_data['feature'] != 'const']\n",
        "\n",
        "print(vif_data)\n"
      ]
    },
    {
      "cell_type": "code",
      "execution_count": null,
      "metadata": {
        "id": "c9da0JXDNSF0"
      },
      "outputs": [],
      "source": [
        "from sklearn.linear_model import LogisticRegression\n",
        "from sklearn.metrics import classification_report\n",
        "df = pd.read_csv(\"Apprentice_Chef_Dataset.csv\")\n",
        "# Select numerical columns and the target variable\n",
        "numerical_columns = df.select_dtypes(exclude=['object']).columns.tolist()\n",
        "np.random.seed(42)\n",
        "\n",
        "# Extract the features and the target variable\n",
        "X = df[numerical_columns].drop(columns=['CROSS_SELL_SUCCESS'])\n",
        "y = df['CROSS_SELL_SUCCESS']\n",
        "\n",
        "# Build and train the logistic regression classifier\n",
        "classifier = LogisticRegression()\n",
        "classifier.fit(X, y)\n",
        "\n",
        "# Predict on the entire dataset\n",
        "y_pred = classifier.predict(X)\n",
        "\n",
        "# Generate and display the classification report\n",
        "report = classification_report(y, y_pred)\n",
        "print(report)\n"
      ]
    },
    {
      "cell_type": "code",
      "execution_count": null,
      "metadata": {
        "id": "dV9U6-OVNSF1"
      },
      "outputs": [],
      "source": [
        "df.isnull().sum(axis = 0)\n"
      ]
    },
    {
      "cell_type": "code",
      "execution_count": null,
      "metadata": {
        "id": "WcpHED8rNSF1"
      },
      "outputs": [],
      "source": [
        "# creating a dropped dataset to visualize 'FAMILY_NAME'\n",
        "df_dropped = df.dropna()\n",
        "\n",
        "#check if there is any missing values in the dropped dataset\n",
        "df_dropped.isnull().sum()"
      ]
    },
    {
      "cell_type": "code",
      "execution_count": null,
      "metadata": {
        "id": "VJoqS1RoNSF2"
      },
      "outputs": [],
      "source": [
        "# Creating New Calculated Variables\n",
        "df['MOBILE_LOGINS_RATE'] = df['MOBILE_LOGINS'] / df['TOTAL_MEALS_ORDERED']\n",
        "df['CANCELLATION_RATE'] = (df['CANCELLATIONS_BEFORE_NOON'] + df['CANCELLATIONS_AFTER_NOON'])/ df['TOTAL_MEALS_ORDERED']\n",
        "df['CATVIEWS_CLICKS_RATIO'] = df['PRODUCT_CATEGORIES_VIEWED'] / df['AVG_CLICKS_PER_VISIT']\n",
        "df['CATVIEWS_VISIT_RATIO'] = df['PRODUCT_CATEGORIES_VIEWED'] / df['AVG_TIME_PER_SITE_VISIT']\n",
        "\n",
        "\n",
        "# checking result\n",
        "df.loc[ : , ['MOBILE_LOGINS_RATE','CANCELLATION_RATE',\n",
        "                 'CATVIEWS_CLICKS_RATIO',\n",
        "                 'CATVIEWS_VISIT_RATIO']].head()"
      ]
    },
    {
      "cell_type": "code",
      "execution_count": null,
      "metadata": {
        "id": "deQOwKAfNSF2"
      },
      "outputs": [],
      "source": [
        "columns_to_drop = ['MOBILE_LOGINS', 'TOTAL_MEALS_ORDERED', 'PRODUCT_CATEGORIES_VIEWED', 'AVG_CLICKS_PER_VISIT', 'AVG_TIME_PER_SITE_VISIT','CANCELLATIONS_BEFORE_NOON','CANCELLATIONS_AFTER_NOON','TOTAL_MEALS_ORDERED']\n"
      ]
    },
    {
      "cell_type": "code",
      "execution_count": null,
      "metadata": {
        "id": "JPlJVaw5NSF2"
      },
      "outputs": [],
      "source": [
        "df.shape"
      ]
    },
    {
      "cell_type": "code",
      "execution_count": null,
      "metadata": {
        "id": "3W3Z56F_NSF3"
      },
      "outputs": [],
      "source": [
        "df.columns"
      ]
    },
    {
      "cell_type": "code",
      "execution_count": null,
      "metadata": {
        "id": "6VMZ3jNjNSF3"
      },
      "outputs": [],
      "source": [
        "columns_to_drop = ['MOBILE_LOGINS', 'TOTAL_MEALS_ORDERED', 'PRODUCT_CATEGORIES_VIEWED', 'AVG_CLICKS_PER_VISIT', 'AVG_TIME_PER_SITE_VISIT']\n",
        "df = df.drop(columns=columns_to_drop)"
      ]
    },
    {
      "cell_type": "code",
      "execution_count": null,
      "metadata": {
        "id": "NJhOriQSNSF3"
      },
      "outputs": [],
      "source": [
        "df.shape"
      ]
    },
    {
      "cell_type": "code",
      "execution_count": null,
      "metadata": {
        "id": "Q0irbdJTNSF3"
      },
      "outputs": [],
      "source": [
        "df[\"TOTAL_PHOTOS_VIEWED\"]"
      ]
    },
    {
      "cell_type": "code",
      "execution_count": null,
      "metadata": {
        "id": "6IOwqmCnNSF4"
      },
      "outputs": [],
      "source": [
        "import matplotlib.pyplot as plt\n",
        "plt.figure(figsize=(10, 6))\n",
        "plt.hist(df['LARGEST_ORDER_SIZE'], bins=30, edgecolor='k', alpha=0.7)\n",
        "plt.show()"
      ]
    },
    {
      "cell_type": "code",
      "execution_count": null,
      "metadata": {
        "id": "Tvna7F79NSF4"
      },
      "outputs": [],
      "source": [
        "df['ORDER_SIZE_SMALL'] = 0\n",
        "df['ORDER_SIZE_MEDIUM'] = 0\n",
        "df['ORDER_SIZE_LARGE'] = 0\n",
        "\n",
        "for index, value in df.iterrows():\n",
        "    if df.loc[index, 'LARGEST_ORDER_SIZE'] >= 8.00:\n",
        "        df.loc[index, 'ORDER_SIZE_LARGE'] = 1\n",
        "    elif df.loc[index, 'LARGEST_ORDER_SIZE'] >= 7.00:\n",
        "        df.loc[index, 'ORDER_SIZE_MEDIUM'] = 1\n",
        "    elif df.loc[index, 'LARGEST_ORDER_SIZE'] >= 4.00:\n",
        "        df.loc[index, 'ORDER_SIZE_SMALL'] = 1\n",
        "    else:\n",
        "        continue\n",
        "\n"
      ]
    },
    {
      "cell_type": "code",
      "execution_count": null,
      "metadata": {
        "id": "b0XTmyYwNSF4"
      },
      "outputs": [],
      "source": [
        "df = df.drop(columns=['LARGEST_ORDER_SIZE'])\n"
      ]
    },
    {
      "cell_type": "code",
      "execution_count": null,
      "metadata": {
        "id": "vfM8_SjtNSF4"
      },
      "outputs": [],
      "source": [
        "# Creating new columns for dummy variable\n",
        "df['has_CANCELLATIONS_BEFORE_NOON']  = 0\n",
        "df['has_CANCELLATIONS_AFTER_NOON']   = 0\n",
        "df['has_MASTER_CLASSES_ATTENDED']    = 0\n",
        "df['has_EARLY_DELIVERIES']           = 0\n",
        "df['has_LATE_DELIVERIES']             = 0\n",
        "df['no_LATE_DELIVERIES']              = 0"
      ]
    },
    {
      "cell_type": "code",
      "execution_count": null,
      "metadata": {
        "id": "yxT_cUycNSF4"
      },
      "outputs": [],
      "source": [
        "\n",
        "\n",
        "\n",
        "# for loop to declare 0 and 1\n",
        "for index, value in df.iterrows():\n",
        "\n",
        "    # cancellations_before_noon\n",
        "    if df.loc[index,'CANCELLATIONS_BEFORE_NOON'] > 0:\n",
        "        df.loc[index, 'has_CANCELLATIONS_BEFORE_NOON'] = 1\n",
        "\n",
        "    # cancellations_after_noon\n",
        "    if df.loc[index, 'CANCELLATIONS_AFTER_NOON'] > 0:\n",
        "        df.loc[index, 'has_CANCELLATIONS_AFTER_NOON'] = 1\n",
        "\n",
        "    # master_classes_attended\n",
        "    if df.loc[index, 'MASTER_CLASSES_ATTENDED'] > 0:\n",
        "        df.loc[index, 'has_MASTER_CLASSES_ATTENDED'] = 1\n",
        "\n",
        "    # early_deliveries\n",
        "    if df.loc[index, 'EARLY_DELIVERIES'] > 0:\n",
        "        df.loc[index, 'has_EARLY_DELIVERIES'] = 1\n",
        "\n",
        "    # late_deliveries\n",
        "    if df.loc[index, 'LATE_DELIVERIES'] > 0:\n",
        "        df.loc[index, 'has_LATE_DELIVERIES'] = 1\n",
        "\n",
        "    # no_late_deliveries\n",
        "    if df.loc[index,'LATE_DELIVERIES'] == 0:\n",
        "        df.loc[index, 'no_LATE_DELIVERIES'] = 1"
      ]
    },
    {
      "cell_type": "code",
      "execution_count": null,
      "metadata": {
        "id": "6GHFr0oyNSF5"
      },
      "outputs": [],
      "source": [
        "columns_to_drop = ['CANCELLATIONS_BEFORE_NOON', 'CANCELLATIONS_AFTER_NOON', 'MASTER_CLASSES_ATTENDED', 'EARLY_DELIVERIES', 'LATE_DELIVERIES']\n",
        "df = df.drop(columns=columns_to_drop)"
      ]
    },
    {
      "cell_type": "code",
      "execution_count": null,
      "metadata": {
        "id": "ddpByYKVNSF5"
      },
      "outputs": [],
      "source": [
        "df.columns"
      ]
    },
    {
      "cell_type": "code",
      "execution_count": null,
      "metadata": {
        "id": "QKgTXbyjNSF5"
      },
      "outputs": [],
      "source": [
        "# Splitting emails\n",
        "\n",
        "# placeholder list\n",
        "placeholder_lst = []\n",
        "\n",
        "# looping over each email address\n",
        "for index, col in df.iterrows():\n",
        "\n",
        "    # splitting email domain at '@'\n",
        "    split_email = df.loc[index, 'EMAIL'].split(sep = '@')\n",
        "\n",
        "    # appending placeholder_lst with the results\n",
        "    placeholder_lst.append(split_email)\n",
        "\n",
        "\n",
        "# converting placeholder_lst into a DataFrame\n",
        "emails = pd.DataFrame(placeholder_lst)"
      ]
    },
    {
      "cell_type": "code",
      "execution_count": null,
      "metadata": {
        "id": "zXiMm6vdNSF5"
      },
      "outputs": [],
      "source": [
        "# renaming column to concatenate\n",
        "emails.columns = ['0' , 'EMAIL_domain']\n",
        "\n",
        "\n",
        "# concatenating personal_email_domain with friends DataFrame\n",
        "df = pd.concat([df, emails['EMAIL_domain']],\n",
        "                     axis = 1)\n",
        "\n",
        "\n",
        "# printing value counts of personal_email_domain\n",
        "df.loc[: ,'EMAIL_domain'].value_counts()"
      ]
    },
    {
      "cell_type": "code",
      "execution_count": null,
      "metadata": {
        "id": "qrDGCem4NSF6"
      },
      "outputs": [],
      "source": [
        "#Creating domain types\n",
        "\n",
        "# email domain types\n",
        "professional_emails = ['@amex.com','@jnj.com', '@merck.com', '@cocacola.com','@mcdonalds.com', '@apple.com',\n",
        "                              '@nike.com','@ge.org','@dupont.com','@ibm.com','@chevron.com','@microsoft.com','@exxon.com','@unitedhealth.com',\n",
        "                              '@travelers.com','@boeing.com','@mmm.com','@caterpillar.com','@verizon.com','@pg.com',\n",
        "                              '@walmart.com','@disney.com','@pfizer.com','@visa.com','@jpmorgan.com','@cisco.com',\n",
        "                              '@unitedtech.com','@goldmansacs.com','@homedepot.com','@intel.com']\n",
        "\n",
        "personal_emails  = ['@gmail.com', '@yahoo.com', '@protonmail.com']\n",
        "\n",
        "\n",
        "junk_email_domains       = ['@me.com',\n",
        "                            '@aol.com',\n",
        "                            '@hotmail.com',\n",
        "                            '@live.com',\n",
        "                            '@msn.com',\n",
        "                            '@passport.com']\n",
        "\n",
        "\n",
        "# placeholder list\n",
        "placeholder_lst = []"
      ]
    },
    {
      "cell_type": "code",
      "execution_count": null,
      "metadata": {
        "id": "0Dp4JoWxNSF6"
      },
      "outputs": [],
      "source": [
        "\n",
        "\n",
        "\n",
        "# looping to group observations by domain type\n",
        "for domain in df['EMAIL_domain']:\n",
        "\n",
        "    if '@' + domain in professional_emails:\n",
        "        placeholder_lst.append('professional')\n",
        "\n",
        "\n",
        "    elif '@' + domain in personal_emails:\n",
        "        placeholder_lst.append('personal')\n",
        "\n",
        "    elif '@' + domain in junk_email_domains:\n",
        "        placeholder_lst.append('junk')\n",
        "\n",
        "    else:\n",
        "            print('Unknown')\n",
        "\n",
        "\n",
        "# concatenating with original DataFrame\n",
        "df['domain_group'] = pd.Series(placeholder_lst)\n",
        "\n",
        "\n",
        "# checking results\n",
        "df['domain_group'].value_counts()"
      ]
    },
    {
      "cell_type": "code",
      "execution_count": null,
      "metadata": {
        "id": "lt_YeiySNSF7"
      },
      "outputs": [],
      "source": [
        "df.shape"
      ]
    },
    {
      "cell_type": "code",
      "execution_count": null,
      "metadata": {
        "id": "xHxOGR-_NSF7"
      },
      "outputs": [],
      "source": [
        "df = df[df['domain_group'] != 'junk']\n"
      ]
    },
    {
      "cell_type": "code",
      "execution_count": null,
      "metadata": {
        "id": "VYsb-H2QNSF7"
      },
      "outputs": [],
      "source": [
        "df.shape"
      ]
    },
    {
      "cell_type": "code",
      "execution_count": null,
      "metadata": {
        "id": "EVOFZLQDNSF7"
      },
      "outputs": [],
      "source": [
        "df = df.drop(columns=['NAME', 'EMAIL', 'FIRST_NAME','FAMILY_NAME'])"
      ]
    },
    {
      "cell_type": "code",
      "execution_count": null,
      "metadata": {
        "id": "x2fHFtJdNSF8"
      },
      "outputs": [],
      "source": [
        "df.columns"
      ]
    },
    {
      "cell_type": "code",
      "execution_count": null,
      "metadata": {
        "id": "F_sPW7GJNSF8"
      },
      "outputs": [],
      "source": [
        "df.head()"
      ]
    },
    {
      "cell_type": "code",
      "execution_count": null,
      "metadata": {
        "id": "qJcBZEN2NSF8"
      },
      "outputs": [],
      "source": [
        "df.dtypes"
      ]
    },
    {
      "cell_type": "code",
      "execution_count": null,
      "metadata": {
        "id": "Nqr7j4ZqNSF9"
      },
      "outputs": [],
      "source": [
        "df[\"CROSS_SELL_SUCCESS\"].value_counts()"
      ]
    },
    {
      "cell_type": "code",
      "execution_count": null,
      "metadata": {
        "id": "NHcfmuYgNSGJ"
      },
      "outputs": [],
      "source": [
        "df = pd.get_dummies(df, columns=['EMAIL_domain', 'domain_group'], drop_first=True)\n"
      ]
    },
    {
      "cell_type": "code",
      "execution_count": null,
      "metadata": {
        "id": "rtgr02vENSGK"
      },
      "outputs": [],
      "source": [
        "df.dtypes"
      ]
    },
    {
      "cell_type": "code",
      "execution_count": null,
      "metadata": {
        "id": "OdhBfF90NSGK"
      },
      "outputs": [],
      "source": [
        "from sklearn.preprocessing import MinMaxScaler, StandardScaler\n",
        "# Assuming df is your DataFrame\n",
        "# Select numerical columns\n",
        "\n",
        "numerical_columns = df.select_dtypes(include=['number']).columns\n",
        "\n",
        "# Exclude the 'CROSS_SELL_SUCCESS' column\n",
        "numerical_columns = numerical_columns.drop('CROSS_SELL_SUCCESS')\n",
        "\n",
        "# Create a DataFrame with the selected numerical columns\n",
        "numerical_df = df[numerical_columns]\n",
        "\n",
        "# Check the selected numerical columns\n",
        "print(\"Numerical Columns:\", numerical_columns)\n",
        "\n",
        "# Verify the data types\n",
        "print(\"Data Types:\", numerical_df.dtypes)\n",
        "\n",
        "# Plot distributions of numerical columns individually\n",
        "for column in numerical_columns:\n",
        "    print(f\"Plotting distribution for {column}\")\n",
        "    klib.dist_plot(numerical_df[[column]])"
      ]
    },
    {
      "cell_type": "code",
      "execution_count": null,
      "metadata": {
        "id": "cscmCngrNSGK"
      },
      "outputs": [],
      "source": [
        "df.dtypes"
      ]
    },
    {
      "cell_type": "code",
      "execution_count": null,
      "metadata": {
        "id": "eJFxqWMQNSGL"
      },
      "outputs": [],
      "source": [
        "X"
      ]
    },
    {
      "cell_type": "code",
      "execution_count": null,
      "metadata": {
        "id": "4mZtJh8wNSGL"
      },
      "outputs": [],
      "source": [
        "y"
      ]
    },
    {
      "cell_type": "code",
      "execution_count": null,
      "metadata": {
        "id": "_sWIOv0HNSGL"
      },
      "outputs": [],
      "source": [
        "from sklearn.model_selection import train_test_split\n",
        "from sklearn.preprocessing import StandardScaler\n",
        "from sklearn.linear_model import LogisticRegression\n",
        "from sklearn.metrics import accuracy_score, confusion_matrix, classification_report\n"
      ]
    },
    {
      "cell_type": "code",
      "execution_count": null,
      "metadata": {
        "id": "psyqdHwvNSGL"
      },
      "outputs": [],
      "source": [
        "# Separating the features and target variable\n",
        "X = df.drop(columns=['CROSS_SELL_SUCCESS'])\n",
        "y = df['CROSS_SELL_SUCCESS']\n",
        "\n",
        "# Splitting the dataset into training and testing sets\n",
        "X_train, X_test, y_train, y_test = train_test_split(X, y, test_size=0.2, random_state=42,stratify=y)\n",
        "\n",
        "# Scaling the features\n",
        "scaler = StandardScaler()\n",
        "X_train_scaled = scaler.fit_transform(X_train)\n",
        "X_test_scaled = scaler.transform(X_test)\n",
        "\n",
        "# Training the logistic regression model\n",
        "log_reg = LogisticRegression(max_iter=1000)\n",
        "log_reg.fit(X_train_scaled, y_train)\n",
        "\n",
        "# Making predictions\n",
        "y_pred = log_reg.predict(X_test_scaled)\n",
        "\n",
        "# Evaluating the model's performance\n",
        "accuracy = accuracy_score(y_test, y_pred)\n",
        "conf_matrix = confusion_matrix(y_test, y_pred)\n",
        "class_report = classification_report(y_test, y_pred)\n",
        "\n",
        "print(\"Accuracy:\", accuracy)\n",
        "print(\"\\nConfusion Matrix:\")\n",
        "print(conf_matrix)\n",
        "print(\"\\nClassification Report:\")\n",
        "print(class_report)"
      ]
    },
    {
      "cell_type": "code",
      "execution_count": null,
      "metadata": {
        "id": "57Jp7TBNNSGM"
      },
      "outputs": [],
      "source": [
        "import pandas as pd\n",
        "from sklearn.linear_model import LogisticRegression\n",
        "from sklearn.feature_selection import SequentialFeatureSelector\n",
        "from sklearn.model_selection import train_test_split\n",
        "from sklearn.metrics import classification_report\n",
        "\n",
        "# Assuming df is your DataFrame and 'CROSS_SELL_SUCCESS' is your target variable\n",
        "# Select numerical columns and the target variable\n",
        "numerical_columns = df.select_dtypes(exclude=['object']).columns.tolist()\n",
        "\n",
        "# Extract the features and the target variable\n",
        "X = df[numerical_columns].drop(columns=['CROSS_SELL_SUCCESS'])\n",
        "y = df['CROSS_SELL_SUCCESS']\n",
        "\n",
        "# Split the data into training and testing sets\n",
        "X_train, X_test, y_train, y_test = train_test_split(X, y, test_size=0.2, random_state=42)\n",
        "\n",
        "# Initialize the logistic regression model\n",
        "model = LogisticRegression(random_state=42)\n",
        "\n",
        "# Perform forward feature selection\n",
        "sfs = SequentialFeatureSelector(model, n_features_to_select='auto', direction='forward', scoring='accuracy', cv=5)\n",
        "sfs.fit(X_train, y_train)\n",
        "\n",
        "# Get the selected features\n",
        "selected_features = X_train.columns[sfs.get_support()]\n",
        "\n",
        "print(\"Selected Features:\", selected_features)\n",
        "\n",
        "# Fit the model with the selected features\n",
        "model.fit(X_train[selected_features], y_train)\n",
        "\n",
        "# Predict on the test set\n",
        "y_pred = model.predict(X_test[selected_features])\n",
        "\n",
        "# Generate and display the classification report\n",
        "report = classification_report(y_test, y_pred)\n",
        "print(report)\n"
      ]
    },
    {
      "cell_type": "code",
      "execution_count": null,
      "metadata": {
        "id": "4xizpKXmNSGM"
      },
      "outputs": [],
      "source": [
        "import pandas as pd\n",
        "from sklearn.linear_model import LogisticRegression\n",
        "from sklearn.feature_selection import SequentialFeatureSelector\n",
        "from sklearn.model_selection import train_test_split\n",
        "from sklearn.metrics import classification_report\n",
        "\n",
        "# Assuming df is your DataFrame and 'CROSS_SELL_SUCCESS' is your target variable\n",
        "# Select numerical columns and the target variable\n",
        "numerical_columns = df.select_dtypes(exclude=['object']).columns.tolist()\n",
        "\n",
        "# Extract the features and the target variable\n",
        "X = df[numerical_columns].drop(columns=['CROSS_SELL_SUCCESS'])\n",
        "y = df['CROSS_SELL_SUCCESS']\n",
        "\n",
        "# Split the data into training and testing sets\n",
        "X_train, X_test, y_train, y_test = train_test_split(X, y, test_size=0.2, random_state=42)\n",
        "\n",
        "# Initialize the logistic regression model\n",
        "model = LogisticRegression(random_state=42)\n",
        "\n",
        "# Perform backward feature elimination\n",
        "sfs = SequentialFeatureSelector(model, n_features_to_select='auto', direction='backward', scoring='accuracy', cv=5)\n",
        "sfs.fit(X_train, y_train)\n",
        "\n",
        "# Get the selected features\n",
        "selected_features = X_train.columns[sfs.get_support()]\n",
        "\n",
        "print(\"Selected Features:\", selected_features)\n",
        "\n",
        "# Fit the model with the selected features\n",
        "model.fit(X_train[selected_features], y_train)\n",
        "\n",
        "# Predict on the test set\n",
        "y_pred = model.predict(X_test[selected_features])\n",
        "\n",
        "# Generate and display the classification report\n",
        "report = classification_report(y_test, y_pred)\n",
        "print(report)\n"
      ]
    },
    {
      "cell_type": "code",
      "execution_count": null,
      "metadata": {
        "id": "eB9HQe4mNSGM"
      },
      "outputs": [],
      "source": []
    }
  ],
  "metadata": {
    "colab": {
      "provenance": []
    },
    "kernelspec": {
      "display_name": ".venv",
      "language": "python",
      "name": "python3"
    },
    "language_info": {
      "codemirror_mode": {
        "name": "ipython",
        "version": 3
      },
      "file_extension": ".py",
      "mimetype": "text/x-python",
      "name": "python",
      "nbconvert_exporter": "python",
      "pygments_lexer": "ipython3",
      "version": "3.10.5"
    }
  },
  "nbformat": 4,
  "nbformat_minor": 0
}
